{
  "nbformat": 4,
  "nbformat_minor": 0,
  "metadata": {
    "colab": {
      "provenance": [],
      "authorship_tag": "ABX9TyMFDYTf9tsT6K4dXokU/ryc",
      "include_colab_link": true
    },
    "kernelspec": {
      "name": "python3",
      "display_name": "Python 3"
    },
    "language_info": {
      "name": "python"
    }
  },
  "cells": [
    {
      "cell_type": "markdown",
      "metadata": {
        "id": "view-in-github",
        "colab_type": "text"
      },
      "source": [
        "<a href=\"https://colab.research.google.com/github/GEOFFREY-MO/My-data/blob/main/bgremover.ipynb\" target=\"_parent\"><img src=\"https://colab.research.google.com/assets/colab-badge.svg\" alt=\"Open In Colab\"/></a>"
      ]
    },
    {
      "cell_type": "code",
      "source": [
        "import streamlit as st\n",
        "from rembg import remove\n",
        "from PIL import Image\n",
        "\n",
        "def remove_background(input_image):\n",
        "    # Remove the background from the input image\n",
        "    output_image = remove(input_image)\n",
        "    return output_image\n",
        "\n",
        "def main():\n",
        "    st.title('DAVETECH-BG-REMOVER')\n",
        "    st.markdown('Upload an image and remove its background!')\n",
        "\n",
        "    uploaded_file = st.file_uploader(\"Choose an image...\", type=[\"jpg\", \"jpeg\", \"png\"])\n",
        "\n",
        "    if uploaded_file is not None:\n",
        "        # Read the uploaded image file\n",
        "        input_image = Image.open(uploaded_file)\n",
        "\n",
        "        # Display the uploaded image\n",
        "        st.image(input_image, caption=\"Uploaded Image\", use_column_width=True)\n",
        "\n",
        "        # Check if the user clicked the 'Remove Background' button\n",
        "        if st.button('Remove Background'):\n",
        "            # Call the function to remove the background\n",
        "            output_image = remove_background(input_image)\n",
        "\n",
        "            # Display the output image with the background removed\n",
        "            st.image(output_image, caption=\"Output Image\", use_column_width=True)\n",
        "            st.success('Background removed successfully!')\n",
        "\n",
        "if __name__ == \"__main__\":\n",
        "    main()\n"
      ],
      "metadata": {
        "id": "6ldQePmvNgLl"
      },
      "execution_count": null,
      "outputs": []
    }
  ]
}