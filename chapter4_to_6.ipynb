{
  "nbformat": 4,
  "nbformat_minor": 0,
  "metadata": {
    "colab": {
      "provenance": [],
      "authorship_tag": "ABX9TyN0Tu2sFIRTEhzaRstH6Gm1",
      "include_colab_link": true
    },
    "kernelspec": {
      "name": "python3",
      "display_name": "Python 3"
    },
    "language_info": {
      "name": "python"
    }
  },
  "cells": [
    {
      "cell_type": "markdown",
      "metadata": {
        "id": "view-in-github",
        "colab_type": "text"
      },
      "source": [
        "<a href=\"https://colab.research.google.com/github/GEOFFREY-MO/My-data/blob/main/chapter4_to_6.ipynb\" target=\"_parent\"><img src=\"https://colab.research.google.com/assets/colab-badge.svg\" alt=\"Open In Colab\"/></a>"
      ]
    },
    {
      "cell_type": "markdown",
      "source": [
        "**CHAPTER 4 SOLUTIONS**"
      ],
      "metadata": {
        "id": "k6Bx0ZNna0CA"
      }
    },
    {
      "cell_type": "markdown",
      "source": [
        "**Exercises**\n",
        "\n",
        "**Exercise 4:**\n",
        "\n",
        " What is the purpose of the “def” keyword in Python?\n",
        "\n",
        "a) It is slang that means “the following code is really cool”\n",
        "b) It indicates the start of a function\n",
        "c) It indicates that the following indented section of code is to be stored for later\n",
        "d) b and c are both true\n",
        "e) None of the above\n",
        "\n",
        "Ans:\n",
        "*The correct answer is option. b\n",
        "\n"
      ],
      "metadata": {
        "id": "HfdmqDGVWED_"
      }
    },
    {
      "cell_type": "markdown",
      "source": [
        "**Exercise 5:**\n",
        "\n",
        " What will the following Python program print out?\n",
        "\n",
        " ![image.png](data:image/png;base64,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)\n",
        "\n",
        " **output**\n",
        "\n",
        " ABC Zap ABC"
      ],
      "metadata": {
        "id": "dj3RXrudXJw1"
      }
    },
    {
      "cell_type": "code",
      "execution_count": null,
      "metadata": {
        "id": "LHEi542m4TNI",
        "colab": {
          "base_uri": "https://localhost:8080/"
        },
        "outputId": "f7bc3787-a53b-4920-a56a-0269d3c46791"
      },
      "outputs": [
        {
          "output_type": "stream",
          "name": "stdout",
          "text": [
            "ABC\n",
            "Zap\n",
            "ABC\n"
          ]
        }
      ],
      "source": [
        "def fred():\n",
        "  print(\"Zap\")\n",
        "def jane():\n",
        "  print(\"ABC\")\n",
        "jane()\n",
        "fred()\n",
        "jane()"
      ]
    },
    {
      "cell_type": "markdown",
      "source": [
        "**Exercise 6:**\n",
        "\n",
        "Rewrite your pay computation with time-and-a-half for overtime\n",
        "and create a function called computepay which takes two parameters\n",
        "(hours and rate).\n",
        "\n",
        "![image.png](data:image/png;base64,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)"
      ],
      "metadata": {
        "id": "anlH9CJWY1Ah"
      }
    },
    {
      "cell_type": "code",
      "source": [
        "def computepay(hours, rate):\n",
        "    if hours <= 40:\n",
        "        pay = hours * rate\n",
        "    else:\n",
        "        regular_pay = 40 * rate\n",
        "        overtime_hours = hours - 40\n",
        "        overtime_pay = overtime_hours * (rate * 1.5)\n",
        "        pay = regular_pay + overtime_pay\n",
        "    return pay\n",
        "\n",
        "# Input from the user\n",
        "hours = float(input(\"Enter Hours: \"))\n",
        "rate = float(input(\"Enter Rate: \"))\n",
        "\n",
        "# Calculate and display the pay\n",
        "pay = computepay(hours, rate)\n",
        "print(\"Pay:\", pay)\n"
      ],
      "metadata": {
        "colab": {
          "base_uri": "https://localhost:8080/"
        },
        "id": "TgzeBUmfYEEJ",
        "outputId": "628c08ee-d378-4f9e-f5ce-ebaeeb016807"
      },
      "execution_count": null,
      "outputs": [
        {
          "output_type": "stream",
          "name": "stdout",
          "text": [
            "Enter Hours: 45\n",
            "Enter Rate: 10\n",
            "Pay: 475.0\n"
          ]
        }
      ]
    },
    {
      "cell_type": "markdown",
      "source": [
        "**Exercise 7:**\n",
        "\n",
        "Rewrite the grade program from the previous chapter using\n",
        "a function called computegrade that takes a score as its parameter and\n",
        "returns a grade as a string.\n",
        "\n",
        "![image.png](data:image/png;base64,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)\n",
        "\n",
        "![image.png](data:image/png;base64,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)\n"
      ],
      "metadata": {
        "id": "SH8KqEZgZFkw"
      }
    },
    {
      "cell_type": "code",
      "source": [
        "def computegrade(score):\n",
        "    try:\n",
        "        score = float(score)\n",
        "        if score >= 0.9:\n",
        "            return 'A'\n",
        "        elif score >= 0.8:\n",
        "            return 'B'\n",
        "        elif score >= 0.7:\n",
        "            return 'C'\n",
        "        elif score >= 0.6:\n",
        "            return 'D'\n",
        "        elif 0.0 <= score < 0.6:\n",
        "            return 'F'\n",
        "        else:\n",
        "            return 'Bad score'\n",
        "    except ValueError:\n",
        "        return 'Bad score'\n",
        "\n",
        "while True:\n",
        "    score = input(\"Enter score: \")\n",
        "    if score == 'exit':\n",
        "        break\n",
        "    grade = computegrade(score)\n",
        "    print(grade)\n"
      ],
      "metadata": {
        "colab": {
          "base_uri": "https://localhost:8080/"
        },
        "id": "KALA6ZboYqLA",
        "outputId": "b95158b8-e3ef-4ce4-cd78-e7ddeb836a2e"
      },
      "execution_count": null,
      "outputs": [
        {
          "name": "stdout",
          "output_type": "stream",
          "text": [
            "Enter score: 10\n",
            "A\n",
            "Enter score: 0,75\n",
            "Bad score\n",
            "Enter score: 0.75\n",
            "C\n",
            "Enter score: 0.5\n",
            "F\n",
            "Enter score: PERFECT\n",
            "Bad score\n",
            "Enter score: EXIT\n",
            "Bad score\n",
            "Enter score: exit\n"
          ]
        }
      ]
    },
    {
      "cell_type": "markdown",
      "source": [
        "**CHAPTER 5 SOLUTIIONS**"
      ],
      "metadata": {
        "id": "7DVSJlRSbMU1"
      }
    },
    {
      "cell_type": "markdown",
      "source": [
        "**5.9 Exercises**\n",
        "\n",
        "**Exercise 1:**\n",
        "\n",
        "Write a program which repeatedly reads numbers until the\n",
        "user enters “done”. Once “done” is entered, print out the total, count,\n",
        "and average of the numbers. If the user enters anything other than a\n",
        "number, detect their mistake using try and except and print an error\n",
        "message and skip to the next number.\n",
        "\n",
        "Enter a number: 4\n",
        "\n",
        "Enter a number: 5\n",
        "\n",
        "Enter a number: bad data\n",
        "\n",
        "Invalid input\n",
        "\n",
        "Enter a number: 7\n",
        "\n",
        "Enter a number: done\n",
        "\n",
        "16 3 5.333333333333333"
      ],
      "metadata": {
        "id": "-8-aCjijbSVf"
      }
    },
    {
      "cell_type": "code",
      "source": [
        "count = 0\n",
        "total = 0\n",
        "\n",
        "while True:\n",
        "    user_input = input(\"Enter a number: \")\n",
        "    if user_input == \"done\":\n",
        "        break\n",
        "    try:\n",
        "        number = float(user_input)\n",
        "        count += 1\n",
        "        total += number\n",
        "    except ValueError:\n",
        "        print(\"Invalid input\")\n",
        "\n",
        "if count == 0:\n",
        "    print(\"No numbers entered.\")\n",
        "else:\n",
        "    average = total / count\n",
        "    print(total, count, average)\n"
      ],
      "metadata": {
        "colab": {
          "base_uri": "https://localhost:8080/"
        },
        "id": "7ggW2AilaYLF",
        "outputId": "fab1725d-b271-49f8-da89-d1944db1c2af"
      },
      "execution_count": null,
      "outputs": [
        {
          "output_type": "stream",
          "name": "stdout",
          "text": [
            "Enter a number: 4\n",
            "Enter a number: 5\n",
            "Enter a number: bad data\n",
            "Invalid input\n",
            "Enter a number: 7\n",
            "Enter a number: done\n",
            "16.0 3 5.333333333333333\n"
          ]
        }
      ]
    },
    {
      "cell_type": "markdown",
      "source": [
        "**Exercise 2:**\n",
        "\n",
        "Write another program that prompts for a list of numbers\n",
        "as above and at the end prints out both the maximum and minimum of\n",
        "the numbers instead of the average."
      ],
      "metadata": {
        "id": "zVbbLsIBcR59"
      }
    },
    {
      "cell_type": "code",
      "source": [
        "max_number = None\n",
        "min_number = None\n",
        "\n",
        "while True:\n",
        "    user_input = input(\"Enter a number: \")\n",
        "    if user_input == \"done\":\n",
        "        break\n",
        "    try:\n",
        "        number = float(user_input)\n",
        "        if max_number is None or number > max_number:\n",
        "            max_number = number\n",
        "        if min_number is None or number < min_number:\n",
        "            min_number = number\n",
        "    except ValueError:\n",
        "        print(\"Invalid input\")\n",
        "\n",
        "if max_number is not None and min_number is not None:\n",
        "    print(\"Maximum:\", max_number)\n",
        "    print(\"Minimum:\", min_number)\n",
        "else:\n",
        "    print(\"No valid numbers entered.\")\n"
      ],
      "metadata": {
        "colab": {
          "base_uri": "https://localhost:8080/"
        },
        "id": "os-J0Kwob3l-",
        "outputId": "9923c6de-1c6e-4f8b-e7e0-f39d42114bd4"
      },
      "execution_count": null,
      "outputs": [
        {
          "output_type": "stream",
          "name": "stdout",
          "text": [
            "Enter a number: 23\n",
            "Enter a number: 34\n",
            "Enter a number: 32\n",
            "Enter a number: 12\n",
            "Enter a number: 2\n",
            "Enter a number: 4\n",
            "Enter a number: 75\n",
            "Enter a number: 9\n",
            "Enter a number: d\n",
            "Invalid input\n",
            "Enter a number: 8\n",
            "Enter a number: 2\n",
            "Enter a number: done\n",
            "Maximum: 75.0\n",
            "Minimum: 2.0\n"
          ]
        }
      ]
    },
    {
      "cell_type": "markdown",
      "source": [
        "**CHAPTER 6. STRINGS**\n",
        "\n",
        "**6.14 Exercises**\n",
        "\n",
        "**Exercise 5:**\n",
        "\n",
        "Take the following Python code that stores a string:\n",
        "str = 'X-DSPAM-Confidence:0.8475'\n",
        "Use find and string slicing to extract the portion of the string after the\n",
        "colon character and then use the float function to convert the extracted\n",
        "string into a ﬂoating point number."
      ],
      "metadata": {
        "id": "7bl2SWmsc0JV"
      }
    },
    {
      "cell_type": "code",
      "source": [
        "str = 'X-DSPAM-Confidence:0.8475'\n",
        "\n",
        "# Find the position of the colon\n",
        "colon_pos = str.find(':')\n",
        "\n",
        "# Extract the portion of the string after the colon\n",
        "confidence_str = str[colon_pos + 1:]\n",
        "\n",
        "# Convert the extracted string to a floating-point number\n",
        "confidence_float = float(confidence_str)\n",
        "\n",
        "# Print the result\n",
        "print(confidence_float)\n"
      ],
      "metadata": {
        "colab": {
          "base_uri": "https://localhost:8080/"
        },
        "id": "rMxq2MaRdpRu",
        "outputId": "9647b895-7576-451c-dadb-9bd9f932c6e2"
      },
      "execution_count": null,
      "outputs": [
        {
          "output_type": "stream",
          "name": "stdout",
          "text": [
            "0.8475\n"
          ]
        }
      ]
    },
    {
      "cell_type": "markdown",
      "source": [
        "**THE END**\n",
        "\n",
        "---\n",
        "\n"
      ],
      "metadata": {
        "id": "RcAyNc4YeKjs"
      }
    }
  ]
}