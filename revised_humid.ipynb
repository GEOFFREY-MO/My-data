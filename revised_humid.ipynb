{
  "nbformat": 4,
  "nbformat_minor": 0,
  "metadata": {
    "colab": {
      "provenance": [],
      "authorship_tag": "ABX9TyMUqQccf9GUJFrQhSnIFRYQ",
      "include_colab_link": true
    },
    "kernelspec": {
      "name": "python3",
      "display_name": "Python 3"
    },
    "language_info": {
      "name": "python"
    }
  },
  "cells": [
    {
      "cell_type": "markdown",
      "metadata": {
        "id": "view-in-github",
        "colab_type": "text"
      },
      "source": [
        "<a href=\"https://colab.research.google.com/github/GEOFFREY-MO/My-data/blob/main/revised_humid.ipynb\" target=\"_parent\"><img src=\"https://colab.research.google.com/assets/colab-badge.svg\" alt=\"Open In Colab\"/></a>"
      ]
    },
    {
      "cell_type": "code",
      "source": [
        "import math\n",
        "\n",
        "# Constants\n",
        "c = 0.6\n",
        "x = 0.5\n",
        "y = 0.5\n",
        "a1 = 3.64e-4\n",
        "a2 = 2.334\n",
        "\n",
        "# Variables\n",
        "A = 200  # cross section area\n",
        "a = 2\n",
        "P = 4  # bars\n",
        "T = 38\n",
        "T_cg = 2.2\n",
        "T_cv = 2.3\n",
        "T_l = 120  # temperature of a liquid\n",
        "k_g = 0.01  # thermal conductivity of the gas\n",
        "q_g = 0.012  # gas flow rate\n",
        "dz = 0.8  # change in height\n",
        "mu_g = 0.2  # viscosity of the gas\n",
        "M_g = 28.9655\n",
        "M_cg = 43.02\n",
        "DP = 6  # pressure drop in kP\n",
        "q_l = 1.5  # liquid flow rate\n",
        "l = 2  # characteristic length in meters\n",
        "d_o = 700  # diameter in micrometers\n",
        "num_sections = 10\n",
        "nu = 1.3  # kinetic viscosity\n",
        "m_a = 0.008  # mass of the air\n",
        "m_l = [0.018] * (num_sections + 1)  # mass of the liquid (initialized as a list)\n",
        "dt = 0.1  # time step\n",
        "rho_d = 0.000505  # density\n",
        "M_v = 0.0186\n",
        "T_g = 120\n",
        "U_d_i = 0.0  # initial velocity of the droplet\n",
        "d = 0.13  # diameter of the tower\n",
        "U_g = 0.0  # velocity of the air (initial)\n",
        "A_d = math.pi * (d / 2) ** 2\n",
        "g = 9.81  # acceleration due to gravity in m/s**2\n",
        "m_d = 0.12\n",
        "G_d = m_d * g\n",
        "z = 3.5  # overall height of the tower\n",
        "v = 1.5  # velocity\n",
        "X_i_l = [0.1, 0.2, 0.3, 0.4, 0.5]\n",
        "X = [0.0] * (num_sections + 1)\n",
        "X_i = 0.3\n",
        "cp_g = 4.2  # heat capacity in kilojoules\n",
        "a_l = 0.0267\n",
        "a_g = 0.168\n",
        "T_i = 220\n",
        "h = 40.65 #enthalypy\n",
        "h_v = 101.0\n",
        "h_g = [73.45]\n",
        "# Calculate the mass diffusivity coefficient of water vapor in air\n",
        "D_ab = (P * a / ((M_cg / M_g + 1 / M_v) * (T_cg / T) ** (5 / 12) * (T_g / T_cv) ** (1 / 2))) ** (1 / 3)\n",
        "\n",
        "# Calculate the nozzle constant\n",
        "K = 0.00367 * (T / 293.15) ** 0.29 * (DP * q_l / (l * 0.2 * d_o ** 2))\n",
        "\n",
        "# Loop over each section in the tower\n",
        "for j in range(num_sections):\n",
        "    # Calculate droplet motion\n",
        "    U_d = 0.0\n",
        "    U_d_previous = U_d_i\n",
        "    dz = -dz\n",
        "\n",
        "    # Calculate drag coefficient and Reynolds number\n",
        "    Re = (rho_g * d * abs(U_g - U_d)) / mu_g\n",
        "    if Re < 2:\n",
        "        if Re != 0:\n",
        "            C_D = 24 / Re\n",
        "        else:\n",
        "            C_D = 0  # Assign 0 when Re is 0\n",
        "    elif 2 <= Re < 500:\n",
        "        C_D = 18.197\n",
        "    else:\n",
        "        C_D = 0.44\n",
        "\n",
        "    # Calculate resistance force on droplet\n",
        "    R_d = 0.5 * C_D * (rho_g * abs(U_g - U_d) * A_d * abs(U_g - U_d))\n",
        "\n",
        "    # Calculate force balance on droplet\n",
        "    dU_d = (g * d ** 3 * rho_d / (18 * mu_g)) * (R_d - G_d)\n",
        "\n",
        "    # Update droplet velocity and position\n",
        "    U_d = U_d_previous + dU_d * dt\n",
        "    z += dz * dt\n",
        "\n",
        "    # Calculate mass transfer equation\n",
        "    Re = 2.0 + c * (v * d / nu)\n",
        "    Sh = 2.0 + c * Re\n",
        "    dm_g = q_g * Sh * D_ab * (X_i_l[0] - X[0] * X_i) * A * dz\n",
        "\n",
        "\n",
        "    # Calculate heat transfer equations\n",
        "    Sc = nu / D_ab\n",
        "    Pr = cp_g * mu_g / k_g\n",
        "    Nu = 2.0 + c * Re * (Sc ** x) * (Pr ** y)\n",
        "    dq_l = a_l * Nu * k_g * (T_l - T) * A * dz\n",
        "    dq_g = a_g * Nu * k_g * (T_i - T_i) * A * dz\n",
        "\n",
        "    # Calculate water mass balance\n",
        "    dm_l = dm_g\n",
        "\n",
        "    # Calculate moisture content conservation in humid air\n",
        "    dm = m_a * (X[j + 1] - X[j])\n",
        "\n",
        "    # Calculate liquid side enthalpy conservation\n",
        "    dh_l = m_l[j + 1] * 40.65 - m_l[j] * 40.65 + dq_l + dm_l * 40.65\n",
        "\n",
        "    # Calculate air side enthalpy conservation\n",
        "    dh_g = m_a * h_g[0] - m_a * h_g[0] + dq_g + dm_g * h_v\n"
      ],
      "metadata": {
        "id": "6-cEvaANB6y-"
      },
      "execution_count": null,
      "outputs": []
    },
    {
      "cell_type": "markdown",
      "source": [
        " Mass transfer rate of water vapor from the gas phase to the liquid phase (kg/s)"
      ],
      "metadata": {
        "id": "MmXNoCAsOCEJ"
      }
    },
    {
      "cell_type": "code",
      "source": [
        "print(\"dm_g:\", dm_g)"
      ],
      "metadata": {
        "colab": {
          "base_uri": "https://localhost:8080/"
        },
        "id": "hrUiHrhOD2M9",
        "outputId": "988e64c6-d689-419c-a165-d42314209003"
      },
      "execution_count": null,
      "outputs": [
        {
          "output_type": "stream",
          "name": "stdout",
          "text": [
            "dm_g: 0.25210897967032314\n"
          ]
        }
      ]
    },
    {
      "cell_type": "markdown",
      "source": [
        "Heat transfer rate from the liquid phase to the gas phase (kJ/s or kW)\n",
        "\n",
        "Heat transfer rate from the gas phase to the liquid phase (kJ/s or kW)"
      ],
      "metadata": {
        "id": "TTWAqVG9OEr-"
      }
    },
    {
      "cell_type": "code",
      "source": [
        "print(\"dq_l:\", dq_l)\n",
        "print(\"dq_g:\", dq_g)"
      ],
      "metadata": {
        "colab": {
          "base_uri": "https://localhost:8080/"
        },
        "id": "AmrQxn_HMPsu",
        "outputId": "3d2fb7f5-5166-4f63-d593-778efd233f6e"
      },
      "execution_count": null,
      "outputs": [
        {
          "output_type": "stream",
          "name": "stdout",
          "text": [
            "dq_l: 79.26961179195817\n",
            "dq_g: 0.0\n"
          ]
        }
      ]
    },
    {
      "cell_type": "markdown",
      "source": [
        "Mass transfer rate of liquid (water) in the tower (kg/s)"
      ],
      "metadata": {
        "id": "psd9TvCPOqHm"
      }
    },
    {
      "cell_type": "code",
      "source": [
        "print(\"dm_l:\", dm_l)"
      ],
      "metadata": {
        "colab": {
          "base_uri": "https://localhost:8080/"
        },
        "id": "yfT9dMc4MTxb",
        "outputId": "f6307423-f0a0-4d8d-e6d8-4503570b1af8"
      },
      "execution_count": null,
      "outputs": [
        {
          "output_type": "stream",
          "name": "stdout",
          "text": [
            "dm_l: 0.25210897967032314\n"
          ]
        }
      ]
    },
    {
      "cell_type": "markdown",
      "source": [
        " Mass flow rate of air (kg/s)"
      ],
      "metadata": {
        "id": "33KgrsNlO8tQ"
      }
    },
    {
      "cell_type": "code",
      "source": [
        "print(\"dm:\", dm)"
      ],
      "metadata": {
        "colab": {
          "base_uri": "https://localhost:8080/"
        },
        "id": "-mK4GkC4MZ0M",
        "outputId": "b3c4fd62-cb78-49b5-eac0-d5776216d271"
      },
      "execution_count": null,
      "outputs": [
        {
          "output_type": "stream",
          "name": "stdout",
          "text": [
            "dm: 0.0\n"
          ]
        }
      ]
    },
    {
      "cell_type": "markdown",
      "source": [
        "Enthalpy change in the liquid phase (kJ/kg or kJ)"
      ],
      "metadata": {
        "id": "P_hMjPNKPOpY"
      }
    },
    {
      "cell_type": "code",
      "source": [
        "print(\"dh_l:\", dh_l)"
      ],
      "metadata": {
        "colab": {
          "base_uri": "https://localhost:8080/"
        },
        "id": "hM89tXjyMc1H",
        "outputId": "576fd5d5-adc0-44fd-b2a2-f8d0d352f95f"
      },
      "execution_count": null,
      "outputs": [
        {
          "output_type": "stream",
          "name": "stdout",
          "text": [
            "dh_l: 89.5178418155568\n"
          ]
        }
      ]
    },
    {
      "cell_type": "markdown",
      "source": [
        " Enthalpy change in the gas phase (kJ/kg or kJ)"
      ],
      "metadata": {
        "id": "pfle_ilOPSaE"
      }
    },
    {
      "cell_type": "code",
      "source": [
        "print(\"dh_g:\", dh_g)"
      ],
      "metadata": {
        "colab": {
          "base_uri": "https://localhost:8080/"
        },
        "id": "SrpvKP6TMgvM",
        "outputId": "e2c4ee84-8581-4bb8-c518-b1d2ec9a23fd"
      },
      "execution_count": null,
      "outputs": [
        {
          "output_type": "stream",
          "name": "stdout",
          "text": [
            "dh_g: 25.463006946702638\n"
          ]
        }
      ]
    }
  ]
}