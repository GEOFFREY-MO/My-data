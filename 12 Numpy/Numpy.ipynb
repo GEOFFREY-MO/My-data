{
  "cells": [
    {
      "cell_type": "markdown",
      "metadata": {
        "id": "view-in-github",
        "colab_type": "text"
      },
      "source": [
        "<a href=\"https://colab.research.google.com/github/GEOFFREY-MO/My-data/blob/main/12%20Numpy/Numpy.ipynb\" target=\"_parent\"><img src=\"https://colab.research.google.com/assets/colab-badge.svg\" alt=\"Open In Colab\"/></a>"
      ]
    },
    {
      "cell_type": "markdown",
      "metadata": {
        "id": "yqXKgeZNKXv1"
      },
      "source": [
        "Notes Slides\n",
        "https://www.beautiful.ai/player/-M_VuI2BGXbEz3mv1Pp8"
      ]
    },
    {
      "cell_type": "markdown",
      "metadata": {
        "id": "-t6mgKRtKXv5"
      },
      "source": [
        "# Numpy\n",
        "- Stands for Numerical Python.\n",
        "- Initially known as Numeric.\n",
        "- It is a python library for n-dimensional array manipulation and computational computing.\n",
        "- Numpy is also excellent in other routines such as Linear Algebra, Mathematical Functions, Statistics etc.\n",
        "- The core of NumPy is well-optimized C code to give a programmer the flexibility of Python with the speed of compiled code"
      ]
    },
    {
      "cell_type": "markdown",
      "metadata": {
        "id": "gSkzFJSHKXv7"
      },
      "source": [
        "- Before we can perform any NumPy operations, we need to install the NumPy package. \n",
        "- To install the NumPy package, you can use the pip installer. \n",
        "- Execute the following command to install:"
      ]
    },
    {
      "cell_type": "markdown",
      "metadata": {
        "id": "unC5_e-9KXv7"
      },
      "source": [
        "$ pip install numpy"
      ]
    },
    {
      "cell_type": "markdown",
      "metadata": {
        "id": "zXdVt_oaKXv8"
      },
      "source": [
        "Otherwise, if you are running Python via the Anaconda distribution, you can execute the following command instead:"
      ]
    },
    {
      "cell_type": "markdown",
      "metadata": {
        "id": "tp2pKBexKXv9"
      },
      "source": [
        "$ conda install numpy"
      ]
    },
    {
      "cell_type": "code",
      "execution_count": null,
      "metadata": {
        "id": "1bcF6QwvKXv9"
      },
      "outputs": [],
      "source": [
        "# !pip install numpy"
      ]
    },
    {
      "cell_type": "code",
      "execution_count": null,
      "metadata": {
        "id": "44s6le1OKXv_"
      },
      "outputs": [],
      "source": [
        "import numpy as np"
      ]
    },
    {
      "cell_type": "markdown",
      "metadata": {
        "id": "yEXI2yT5KXwA"
      },
      "source": [
        "# The Basics\n",
        "<br>\n",
        "<br>\n",
        "\n",
        "### Numpy ndarray\n",
        "\n",
        "- NumPy arrays are the building blocks of most of the NumPy operations.\n",
        "- It is a table of elements (usually numbers), all of the same type, indexed by a tuple of positive integers.\n",
        "- In NumPy dimensions are called **axes**. The number of axes is **rank.**\n",
        "- NumPy’s array class is called **ndarray**. It is also known by the alias **array**."
      ]
    },
    {
      "cell_type": "markdown",
      "metadata": {
        "id": "BzB61zmAKXwB"
      },
      "source": [
        "### Why Numpy.\n",
        "- For starters, Numpy is really fast compared to python lists.\n",
        "- This is because NumPy serves as a wrapper around C and Fortran which are really fast."
      ]
    },
    {
      "cell_type": "code",
      "execution_count": null,
      "metadata": {
        "id": "HhSirechKXwB",
        "outputId": "2b90cb7e-b4d6-44bc-bb8a-0d15f635cb2a"
      },
      "outputs": [
        {
          "name": "stdout",
          "output_type": "stream",
          "text": [
            "Computing the mean using NumPy: 0.49993371717442314\n",
            "Computation time: 0.01303410530090332\n",
            "Computing the mean using lists: 0.49993371717442314\n",
            "Computation time: 0.18489289283752441\n"
          ]
        }
      ],
      "source": [
        "from time import time\n",
        "#Random numpy array\n",
        "numpy_array = np.random.rand(1000000)\n",
        "list_conv = list(numpy_array)\n",
        "#Start timing NumPy computation\n",
        "start1 = time()\n",
        "#Compute the mean using NumPy\n",
        "numpy_mean = np.mean(numpy_array)\n",
        "print(f\"Computing the mean using NumPy: {numpy_mean}\")\n",
        "#End timing\n",
        "end1 = time()\n",
        "#Time taken\n",
        "time1 = end1 - start1\n",
        "print(f\"Computation time: {time1}\")\n",
        "#Start timing list computation\n",
        "start2 = time()\n",
        "#Compute the mean using lists\n",
        "list_mean = np.mean(list_conv)\n",
        "print(f\"Computing the mean using lists: {list_mean}\")\n",
        "#End timing\n",
        "end2 = time()\n",
        "#Time taken\n",
        "time2 = end2 - start2\n",
        "print(f\"Computation time: {time2}\")\n",
        "#Check results are equal\n",
        "assert abs(numpy_mean - list_mean) <= 10e-6, \"Alert, means are not equal\""
      ]
    },
    {
      "cell_type": "code",
      "execution_count": null,
      "metadata": {
        "id": "bstDLKD5KXwE"
      },
      "outputs": [],
      "source": []
    },
    {
      "cell_type": "markdown",
      "metadata": {
        "id": "E6gPlHDiKXwE"
      },
      "source": [
        "#### The array Method"
      ]
    },
    {
      "cell_type": "code",
      "execution_count": null,
      "metadata": {
        "id": "9oG4kscOKXwE",
        "outputId": "092a2356-c8e4-46b6-ed82-8a9b9745dc43"
      },
      "outputs": [
        {
          "name": "stdout",
          "output_type": "stream",
          "text": [
            "<class 'int'>\n",
            "<class 'numpy.int32'>\n"
          ]
        }
      ],
      "source": [
        "# list of numbers \n",
        "x = [2, 3, 4, 5, 6]\n",
        "print(type(x[0]))\n",
        "# creating numy array using np.array\n",
        "nums = np.array(x)\n",
        "print(type(nums[0]))"
      ]
    },
    {
      "cell_type": "code",
      "execution_count": null,
      "metadata": {
        "id": "lsexQsiJKXwG",
        "outputId": "583e92d3-3453-4cef-d858-0860d042f5db"
      },
      "outputs": [
        {
          "data": {
            "text/plain": [
              "1"
            ]
          },
          "execution_count": 10,
          "metadata": {},
          "output_type": "execute_result"
        }
      ],
      "source": [
        "# Get Dimension of the arrays\n",
        "nums.ndim"
      ]
    },
    {
      "cell_type": "code",
      "execution_count": null,
      "metadata": {
        "id": "ABDNkiL4KXwG",
        "outputId": "a2930876-84dd-4432-8504-1e424d43697f"
      },
      "outputs": [
        {
          "data": {
            "text/plain": [
              "(5,)"
            ]
          },
          "execution_count": 13,
          "metadata": {},
          "output_type": "execute_result"
        }
      ],
      "source": [
        "# Returns the size of each dimension\n",
        "nums.shape"
      ]
    },
    {
      "cell_type": "code",
      "execution_count": null,
      "metadata": {
        "id": "xhiYnZoXKXwH",
        "outputId": "c98660c9-d487-4410-9a53-3aca8e3906c4"
      },
      "outputs": [
        {
          "data": {
            "text/plain": [
              "dtype('int32')"
            ]
          },
          "execution_count": 11,
          "metadata": {},
          "output_type": "execute_result"
        }
      ],
      "source": [
        "# Get array Datatype\n",
        "nums.dtype"
      ]
    },
    {
      "cell_type": "code",
      "execution_count": null,
      "metadata": {
        "id": "kq6OMQCLKXwI",
        "outputId": "2f5f439e-f6e8-4d70-ca3b-11ebf04fe883"
      },
      "outputs": [
        {
          "data": {
            "text/plain": [
              "4"
            ]
          },
          "execution_count": 16,
          "metadata": {},
          "output_type": "execute_result"
        }
      ],
      "source": [
        "# Length of one array element in bytes.\n",
        "nums.itemsize"
      ]
    },
    {
      "cell_type": "code",
      "execution_count": null,
      "metadata": {
        "id": "5-XWyfIaKXwI",
        "outputId": "1bd79385-0628-42f6-e060-f9801662a4f6"
      },
      "outputs": [
        {
          "data": {
            "text/plain": [
              "20"
            ]
          },
          "execution_count": 17,
          "metadata": {},
          "output_type": "execute_result"
        }
      ],
      "source": [
        "# Get total size  Total bytes consumed by the elements of the array.\n",
        "nums.nbytes"
      ]
    },
    {
      "cell_type": "code",
      "execution_count": null,
      "metadata": {
        "id": "GkCHGATIKXwJ",
        "outputId": "eb9dea17-9358-40e5-908d-8b7302762312"
      },
      "outputs": [
        {
          "data": {
            "text/plain": [
              "5"
            ]
          },
          "execution_count": 21,
          "metadata": {},
          "output_type": "execute_result"
        }
      ],
      "source": [
        "# Get number of elements\n",
        "nums.size"
      ]
    },
    {
      "cell_type": "markdown",
      "metadata": {
        "id": "NlrwRvc9KXwK"
      },
      "source": [
        "### Common  Array Types"
      ]
    },
    {
      "cell_type": "markdown",
      "metadata": {
        "id": "e11-Fsh8KXwL"
      },
      "source": [
        "!['new'](https://github.com/GEOFFREY-MO/Africa-Data-School/blob/main/12%20Numpy/images/scalar-vector-matrix-tensor.jpg?raw=1)"
      ]
    },
    {
      "cell_type": "markdown",
      "metadata": {
        "id": "slBdIaVNKXwL"
      },
      "source": [
        "### Scalar\n",
        "\n",
        "* Any quantity which can be represented as a number (positive or negative) is called <b>scalar</b>. eg Temperature.\n",
        "* This value is known as <b>magnitude</b>."
      ]
    },
    {
      "cell_type": "code",
      "execution_count": null,
      "metadata": {
        "id": "pgAECQupKXwM",
        "outputId": "c36e13a9-eec6-4505-bdb4-95c2479b3350"
      },
      "outputs": [
        {
          "name": "stdout",
          "output_type": "stream",
          "text": [
            "42\n"
          ]
        }
      ],
      "source": [
        "#0-D arrays, or Scalars,\n",
        "\n",
        "arr = np.array(42)\n",
        "\n",
        "print(arr)"
      ]
    },
    {
      "cell_type": "markdown",
      "metadata": {
        "id": "2HIWm9OyKXwM"
      },
      "source": [
        "### Vector\n",
        "- A vector is a 1-Dimensional array.\n",
        "- A vector is commonly referred to in computer science as an array\n",
        "- Vectors are consisted  of <b>Scalars</b>"
      ]
    },
    {
      "cell_type": "code",
      "execution_count": null,
      "metadata": {
        "id": "lDvImd0JKXwN",
        "outputId": "00795e6e-cb11-4fc9-b785-3fa6dc49d62e"
      },
      "outputs": [
        {
          "name": "stdout",
          "output_type": "stream",
          "text": [
            "[1 2 3]\n"
          ]
        }
      ],
      "source": [
        "# 1-d array.\n",
        "arr = np.array([1, 2,3])\n",
        "\n",
        "print(arr)"
      ]
    },
    {
      "cell_type": "markdown",
      "metadata": {
        "id": "l0jv7mE6KXwT"
      },
      "source": [
        "### Matrix\n",
        "- An array that has 1-D arrays (row or column vectors) as its elements is called a 2-D array. \n",
        "- These are often used to represent matrix."
      ]
    },
    {
      "cell_type": "code",
      "execution_count": null,
      "metadata": {
        "id": "on2mDGbrKXwT",
        "outputId": "6a60c91d-4523-4962-c3a0-e1ae483f3f65"
      },
      "outputs": [
        {
          "name": "stdout",
          "output_type": "stream",
          "text": [
            "[[1 2 3]\n",
            " [4 5 6]]\n"
          ]
        }
      ],
      "source": [
        "# 2-d array\n",
        "arr = np.array([[1, 2, 3], [4, 5, 6]])\n",
        "\n",
        "print(arr)"
      ]
    },
    {
      "cell_type": "markdown",
      "metadata": {
        "id": "AiByD3vKKXwU"
      },
      "source": [
        "### Tensor\n",
        "- An array that has 2-D arrays (matrices) as its elements is called 3-D array. \n",
        "- They have width, length and depth.\n",
        "- Generally tensors refers to higher dimensional matrices eg RGB values of each pixel in an image."
      ]
    },
    {
      "cell_type": "markdown",
      "metadata": {
        "id": "MX_Y4sFHKXwU"
      },
      "source": [
        "!['new'](https://github.com/GEOFFREY-MO/Africa-Data-School/blob/main/12%20Numpy/color_channels.png?raw=1)"
      ]
    },
    {
      "cell_type": "code",
      "execution_count": null,
      "metadata": {
        "id": "9vBtDhuCKXwV",
        "outputId": "f4065a12-c773-4777-e298-200c873c3379"
      },
      "outputs": [
        {
          "name": "stdout",
          "output_type": "stream",
          "text": [
            "[[[1 2 3]\n",
            "  [4 5 6]]\n",
            "\n",
            " [[1 2 3]\n",
            "  [4 5 6]]]\n"
          ]
        }
      ],
      "source": [
        "arr = np.array([[[1, 2, 3], [4, 5, 6]],[[1, 2, 3], [4, 5, 6]]])\n",
        "print(arr)"
      ]
    },
    {
      "cell_type": "markdown",
      "metadata": {
        "id": "i0tZxT9PKXwW"
      },
      "source": [
        "# Creating a NumPy Array"
      ]
    },
    {
      "cell_type": "markdown",
      "metadata": {
        "id": "36qR1uFbKXwW"
      },
      "source": [
        "*  array Method\n",
        "*  arange Method\n",
        "*  zeros Method\n",
        "*  ones Method\n",
        "*  linspace Method\n",
        "*  eye Method\n",
        "*  random Method"
      ]
    },
    {
      "cell_type": "markdown",
      "metadata": {
        "id": "Xw_YlZYrKXwX"
      },
      "source": [
        "### Array Method "
      ]
    },
    {
      "cell_type": "markdown",
      "metadata": {
        "id": "-h7sX-LlKXwX"
      },
      "source": [
        "- Two-dimensional array, you can pass a list of lists to the array method as shown below"
      ]
    },
    {
      "cell_type": "code",
      "execution_count": null,
      "metadata": {
        "id": "n1KNGsJsKXwX",
        "outputId": "7d14c1f2-6fba-4c88-f645-b7e928178755"
      },
      "outputs": [
        {
          "data": {
            "text/plain": [
              "array([[ 2,  4,  6],\n",
              "       [ 8, 10, 12],\n",
              "       [14, 16, 18]])"
            ]
          },
          "execution_count": 23,
          "metadata": {},
          "output_type": "execute_result"
        }
      ],
      "source": [
        "twodim = np.array([[2,4,6], [8,10,12], [14,16,18]])\n",
        "twodim"
      ]
    },
    {
      "cell_type": "markdown",
      "metadata": {
        "id": "ImiIWe7fKXwY"
      },
      "source": [
        "### Arange Method\n",
        "- Takes a range of numbers and returns an array of numbers within that range."
      ]
    },
    {
      "cell_type": "code",
      "execution_count": null,
      "metadata": {
        "id": "QciFq4mBKXwZ",
        "outputId": "85fb849d-88b6-4b89-b0f3-deddfb390756"
      },
      "outputs": [
        {
          "data": {
            "text/plain": [
              "array([2, 3, 4, 5, 6, 7])"
            ]
          },
          "execution_count": 20,
          "metadata": {},
          "output_type": "execute_result"
        }
      ],
      "source": [
        "twodim = np.arange(2, 8)\n",
        "twodim"
      ]
    },
    {
      "cell_type": "code",
      "execution_count": null,
      "metadata": {
        "id": "P4OC_8caKXwZ",
        "outputId": "798b478d-be0b-492a-aacf-54ae90d7b5e6"
      },
      "outputs": [
        {
          "data": {
            "text/plain": [
              "array([1, 3, 5, 7, 9])"
            ]
          },
          "execution_count": 15,
          "metadata": {},
          "output_type": "execute_result"
        }
      ],
      "source": [
        "# Now let's add a step size of 2 to our array and see what happens:\n",
        "nums = np.arange(1, 10, 2)\n",
        "nums"
      ]
    },
    {
      "cell_type": "markdown",
      "metadata": {
        "id": "Gf3qQQeqKXwa"
      },
      "source": [
        "### Zeros Method\n",
        "- Returns an array of all zeros with given shape."
      ]
    },
    {
      "cell_type": "code",
      "execution_count": null,
      "metadata": {
        "id": "wKXB6dpRKXwa",
        "outputId": "cd9d4b75-2457-4a10-ed84-44cdd8dc9892"
      },
      "outputs": [
        {
          "data": {
            "text/plain": [
              "array([0., 0., 0., 0., 0., 0.])"
            ]
          },
          "execution_count": 18,
          "metadata": {},
          "output_type": "execute_result"
        }
      ],
      "source": [
        "zeros = np.zeros(6)\n",
        "zeros"
      ]
    },
    {
      "cell_type": "markdown",
      "metadata": {
        "id": "lLJ31oHNKXwb"
      },
      "source": [
        "### Ones Method\n",
        "- Similar to zero method, but return ones instead of zeros."
      ]
    },
    {
      "cell_type": "code",
      "execution_count": null,
      "metadata": {
        "id": "fZsFvuMFKXwb",
        "outputId": "aa2759da-424b-41db-bf7d-1250db4892e9"
      },
      "outputs": [
        {
          "data": {
            "text/plain": [
              "array([[1., 1., 1., 1.],\n",
              "       [1., 1., 1., 1.],\n",
              "       [1., 1., 1., 1.],\n",
              "       [1., 1., 1., 1.],\n",
              "       [1., 1., 1., 1.]])"
            ]
          },
          "execution_count": 24,
          "metadata": {},
          "output_type": "execute_result"
        }
      ],
      "source": [
        "ones = np.ones((5,4))\n",
        "ones"
      ]
    },
    {
      "cell_type": "markdown",
      "metadata": {
        "id": "2tZ7S6NGKXwc"
      },
      "source": [
        "### Eye/Identity Method\n",
        "- Creates a square NxN identity matrix.(with ones on the main diagonal and zeros elsewhere).\n",
        "- Identity matrices, are very useful to perform a variety of operations in linear algebra."
      ]
    },
    {
      "cell_type": "code",
      "execution_count": null,
      "metadata": {
        "id": "MNksOWeSKXwd",
        "outputId": "2c585fe7-3fdb-4b48-cb70-7258fb136cf6"
      },
      "outputs": [
        {
          "name": "stdout",
          "output_type": "stream",
          "text": [
            "[[1. 0.]\n",
            " [0. 1.]]\n",
            "--------------\n",
            "[[1. 0. 0.]\n",
            " [0. 1. 0.]\n",
            " [0. 0. 1.]]\n"
          ]
        }
      ],
      "source": [
        "identity = np.identity(2)\n",
        "print(identity)\n",
        "\n",
        "print('--------------')\n",
        "\n",
        "eye = np.eye(3)\n",
        "print(eye)"
      ]
    },
    {
      "cell_type": "markdown",
      "metadata": {
        "id": "3jbXXP8LKXwd"
      },
      "source": [
        "### linspace Method\n",
        "- This method takes three arguments: a start index, end index, and the number of linearly-spaced numbers that you want between the specified range. For instance, if the first index is 1, the last index is 10 and you need 10 equally spaced elements within this range, you can use the linspace method as follows:"
      ]
    },
    {
      "cell_type": "code",
      "execution_count": null,
      "metadata": {
        "id": "DDnTVH8YKXwe",
        "outputId": "a1d8c426-c012-49dd-b543-d788fb6d1ab6"
      },
      "outputs": [
        {
          "data": {
            "text/plain": [
              "array([ 0.        ,  1.11111111,  2.22222222,  3.33333333,  4.44444444,\n",
              "        5.55555556,  6.66666667,  7.77777778,  8.88888889, 10.        ])"
            ]
          },
          "execution_count": 26,
          "metadata": {},
          "output_type": "execute_result"
        }
      ],
      "source": [
        "lin = np.linspace(0, 10, 10)\n",
        "lin"
      ]
    },
    {
      "cell_type": "markdown",
      "metadata": {
        "id": "a0321dGaKXwe"
      },
      "source": [
        "### Random Method\n",
        "- Often times you will need to create arrays with random numbers. You can use the rand function of NumPy's random"
      ]
    },
    {
      "cell_type": "code",
      "execution_count": null,
      "metadata": {
        "id": "qy0GZ8HcKXwf",
        "outputId": "4ebb4401-8e3b-4084-f6cf-fb39e0732f7e"
      },
      "outputs": [
        {
          "data": {
            "text/plain": [
              "array([[0.61357999, 0.04359828, 0.62619459],\n",
              "       [0.26910919, 0.05861985, 0.23517054],\n",
              "       [0.87693523, 0.87487366, 0.70039115]])"
            ]
          },
          "execution_count": 21,
          "metadata": {},
          "output_type": "execute_result"
        }
      ],
      "source": [
        "### Here is a simple example of the rand function:\n",
        "random = np.random.rand(3, 3)\n",
        "#The matrix contains uniform distribution of numbers between 0 and 1:\n",
        "random"
      ]
    },
    {
      "cell_type": "markdown",
      "metadata": {
        "id": "zoEucgOFKXwg"
      },
      "source": [
        "Create a matrix of random numbers with the Gaussian distribution (or \"normal\" distribution), you can instead use the randn method as shown below"
      ]
    },
    {
      "cell_type": "code",
      "execution_count": null,
      "metadata": {
        "id": "NKV476CxKXwg",
        "outputId": "96c8765e-e30e-4b56-a22b-b61ecc7b20b8"
      },
      "outputs": [
        {
          "data": {
            "text/plain": [
              "array([[ 0.79667029, -0.34966764, -1.03102279, -0.67684769,  1.04395345,\n",
              "         0.09766293, -0.18450408, -1.04251876,  0.28716617,  0.71917985],\n",
              "       [ 1.20913335,  0.8853348 , -0.38239542, -0.25126979,  0.01072392,\n",
              "         1.43498448,  1.45408075,  0.39604929,  0.54117021,  0.96454917],\n",
              "       [ 0.03981922,  0.35718333, -1.09967877, -0.58541656, -0.80243243,\n",
              "         2.07336014, -1.28426949,  0.17274073,  0.78488372, -1.06035056],\n",
              "       [-0.33271177, -0.14447073, -0.46070203,  1.27354474,  1.14837669,\n",
              "         0.6764617 , -0.74229126, -0.25981684, -0.40480221, -0.8983917 ],\n",
              "       [ 0.61423885, -0.38764555,  0.63978303, -0.46733112, -0.1107986 ,\n",
              "         0.16613175,  0.84274065, -0.39238517, -0.5797124 ,  0.99681499],\n",
              "       [-1.32846582, -0.21140999,  0.90820708,  0.76652397,  0.67381242,\n",
              "        -1.56386238, -1.77825634,  2.39140136,  0.85745163,  0.23960985],\n",
              "       [-1.69794217, -1.00280182, -1.29073135, -0.95480211, -0.79035883,\n",
              "        -1.52933825,  0.26371667, -0.39316692, -0.18321168,  0.49825979],\n",
              "       [ 0.2761426 ,  0.05273876,  1.65631728, -0.30512578, -1.05393832,\n",
              "        -0.2106425 ,  1.12819038,  0.05781683,  1.701445  ,  1.05898184],\n",
              "       [-0.1600715 ,  0.690062  ,  0.2135215 ,  0.11672234, -2.02041476,\n",
              "        -0.44655511, -1.56176468,  0.23170795,  0.02718411,  0.31343123],\n",
              "       [ 0.50752006,  1.58007936,  1.55725281, -1.48264488,  1.19535714,\n",
              "         0.16247744,  1.04566226, -0.34663933,  1.77157413, -0.72613249]])"
            ]
          },
          "execution_count": 48,
          "metadata": {},
          "output_type": "execute_result"
        }
      ],
      "source": [
        "random = np.random.randn(10,10)\n",
        "random"
      ]
    },
    {
      "cell_type": "markdown",
      "metadata": {
        "id": "DTj9w80WKXwg"
      },
      "source": [
        "- To create an array of random integers, the randint method exists for such a case. The randint method takes the lower bound, upper bound, and the number of integers to return. For instance, if you want to create an array of 5 random integers between 50 and 100, you can use this method as follows:"
      ]
    },
    {
      "cell_type": "code",
      "execution_count": null,
      "metadata": {
        "id": "O2y3xxYJKXwh",
        "outputId": "c21b705b-c607-4509-90cb-74311620a73b"
      },
      "outputs": [
        {
          "data": {
            "text/plain": [
              "array([85, 61, 93, 88, 60])"
            ]
          },
          "execution_count": 25,
          "metadata": {},
          "output_type": "execute_result"
        }
      ],
      "source": [
        "random = np.random.randint(50, 100, 5)\n",
        "random"
      ]
    },
    {
      "cell_type": "markdown",
      "metadata": {
        "id": "8yBrIcRuKXwi"
      },
      "source": [
        "# Reshaping NumPy Array"
      ]
    },
    {
      "cell_type": "markdown",
      "metadata": {
        "id": "VUIy8npiKXwi"
      },
      "source": [
        "- Using NumPy you can convert a one-dimensional array into a higher dimensional array using the reshape method."
      ]
    },
    {
      "cell_type": "code",
      "execution_count": null,
      "metadata": {
        "id": "0i-1jZy0KXwi",
        "outputId": "a0413102-566a-43be-fd67-0ea4fe24d55d"
      },
      "outputs": [
        {
          "data": {
            "text/plain": [
              "array([[ 1,  2,  3],\n",
              "       [ 4,  5,  6],\n",
              "       [ 7,  8,  9],\n",
              "       [10, 11, 12]])"
            ]
          },
          "execution_count": 29,
          "metadata": {},
          "output_type": "execute_result"
        }
      ],
      "source": [
        "nums = np.arange(1, 13).reshape(4,3)\n",
        "nums"
      ]
    },
    {
      "cell_type": "markdown",
      "metadata": {
        "id": "XFPFAXetKXwj"
      },
      "source": [
        "It is pertinent to mention that you cannot reshape an array if the number of elements in the one-dimensional array is not equal to the product of rows and columns of the reshaped array. For instance, if you have 45 elements in a 1-d array, you cannot reshape it into a matrix of 5 row and 10 columns since a 5x10 matrix has 50 elements and the original one only has 45."
      ]
    },
    {
      "cell_type": "code",
      "execution_count": null,
      "metadata": {
        "id": "I3VJ4AqgKXwk"
      },
      "outputs": [],
      "source": []
    },
    {
      "cell_type": "markdown",
      "metadata": {
        "id": "QjdnY2ckKXwk"
      },
      "source": [
        "## Statistics\n",
        "\n",
        "Compute the mean, standard deviation, and variance of a given NumPy array\n"
      ]
    },
    {
      "cell_type": "code",
      "execution_count": null,
      "metadata": {
        "id": "OLu6eRUJKXwk",
        "outputId": "a252f344-fd3d-474b-f1b1-4a0ada85c56f"
      },
      "outputs": [
        {
          "name": "stdout",
          "output_type": "stream",
          "text": [
            "[71 18 53 45 94]\n"
          ]
        }
      ],
      "source": [
        "# Let's first create an array of 5 random integers:\n",
        "random1 = np.random.randint(1, 100, 5)\n",
        "print(random1)"
      ]
    },
    {
      "cell_type": "code",
      "execution_count": null,
      "metadata": {
        "id": "eM94xTicKXwl",
        "outputId": "fc1ff786-de26-4d1d-ef20-563e23f2a29e"
      },
      "outputs": [
        {
          "name": "stdout",
          "output_type": "stream",
          "text": [
            "18\n"
          ]
        }
      ],
      "source": [
        "# Let's use min and max functions to find the minimum and maxim values\n",
        "# min number\n",
        "xmin = random1.min()\n",
        "print(xmin)"
      ]
    },
    {
      "cell_type": "code",
      "execution_count": null,
      "metadata": {
        "id": "xSxYYX05KXwm",
        "outputId": "ae3b3561-176d-4536-d6e1-8fa689340714"
      },
      "outputs": [
        {
          "name": "stdout",
          "output_type": "stream",
          "text": [
            "94\n"
          ]
        }
      ],
      "source": [
        "# max number \n",
        "xmax = random1.max()\n",
        "print(xmax)"
      ]
    },
    {
      "cell_type": "code",
      "execution_count": null,
      "metadata": {
        "id": "5lvUGwuHKXwm",
        "outputId": "9c119676-bb1d-409c-ca0d-97eae0317dac"
      },
      "outputs": [
        {
          "name": "stdout",
          "output_type": "stream",
          "text": [
            "4\n"
          ]
        }
      ],
      "source": [
        "# index of max\n",
        "print(random1.argmax())"
      ]
    },
    {
      "cell_type": "code",
      "execution_count": null,
      "metadata": {
        "id": "JQHJTII9KXwn",
        "outputId": "1044e05a-5d2a-409e-e6bb-33fccbc68656"
      },
      "outputs": [
        {
          "name": "stdout",
          "output_type": "stream",
          "text": [
            "1\n"
          ]
        }
      ],
      "source": [
        "# index of min\n",
        "print(random1.argmin())"
      ]
    },
    {
      "cell_type": "code",
      "execution_count": null,
      "metadata": {
        "id": "VmJw7Fa4KXwn",
        "outputId": "0de0ab3a-e658-4558-da98-f71ecc10ae6f"
      },
      "outputs": [
        {
          "name": "stdout",
          "output_type": "stream",
          "text": [
            "56.2\n"
          ]
        }
      ],
      "source": [
        "# mean \n",
        "print(random1.mean())"
      ]
    },
    {
      "cell_type": "code",
      "execution_count": null,
      "metadata": {
        "id": "XtDY6FMwKXwo",
        "outputId": "7f238a02-6cc3-40af-8d45-4ceb3aeaa175"
      },
      "outputs": [
        {
          "name": "stdout",
          "output_type": "stream",
          "text": [
            "25.4668411861385\n"
          ]
        }
      ],
      "source": [
        "# median\n",
        "print(random1.std())"
      ]
    },
    {
      "cell_type": "code",
      "execution_count": null,
      "metadata": {
        "id": "I0p-aYsvKXwp",
        "outputId": "8b5d2f63-07c9-4645-870d-dfb183a80b57"
      },
      "outputs": [
        {
          "data": {
            "text/plain": [
              "648.5600000000001"
            ]
          },
          "execution_count": 37,
          "metadata": {},
          "output_type": "execute_result"
        }
      ],
      "source": [
        "# variance \n",
        "np.var(random1)"
      ]
    },
    {
      "cell_type": "markdown",
      "metadata": {
        "id": "Qp_ZwWXrKXwp"
      },
      "source": [
        "# Array Indexing in NumPy\n",
        "### Indexing with 1-D Arrays"
      ]
    },
    {
      "cell_type": "code",
      "execution_count": null,
      "metadata": {
        "id": "0VfpDtjvKXwq",
        "outputId": "de837870-2975-4618-a798-4061c7f7f8e0"
      },
      "outputs": [
        {
          "data": {
            "text/plain": [
              "array([ 1,  2,  3,  4,  5,  6,  7,  8,  9, 10, 11, 12, 13, 14, 15])"
            ]
          },
          "execution_count": 40,
          "metadata": {},
          "output_type": "execute_result"
        }
      ],
      "source": [
        "#Let's create a simple array of 15 numbers\n",
        "nums = np.arange(1, 16)\n",
        "nums"
      ]
    },
    {
      "cell_type": "code",
      "execution_count": null,
      "metadata": {
        "id": "t0yvAVSAKXwr",
        "outputId": "622c510e-a1b8-4dd8-da03-36b7d917e706"
      },
      "outputs": [
        {
          "name": "stdout",
          "output_type": "stream",
          "text": [
            "9\n"
          ]
        }
      ],
      "source": [
        "# find the element at the second index (3rd position) of the array, you can use the following syntax:\n",
        "print(nums[8])"
      ]
    },
    {
      "cell_type": "markdown",
      "metadata": {
        "id": "uHIQzd8kKXwr"
      },
      "source": [
        "- You can also print a range of numbers using indexing. To get the range, you need to pass the start index and one less than the end index, separated by a colon, inside the square brackets that follow the array name"
      ]
    },
    {
      "cell_type": "code",
      "execution_count": null,
      "metadata": {
        "id": "9AOQJQebKXwr",
        "outputId": "8a98ab42-e680-4755-ec94-c29cded95c14"
      },
      "outputs": [
        {
          "name": "stdout",
          "output_type": "stream",
          "text": [
            "[2 3 4 5 6 7 8]\n"
          ]
        }
      ],
      "source": [
        "#print the integers from 2 to 8:\n",
        "#\n",
        "print(nums[1:8])"
      ]
    },
    {
      "cell_type": "markdown",
      "metadata": {
        "id": "RCuRTTO6KXws"
      },
      "source": [
        "### Indexing with 2-D Array"
      ]
    },
    {
      "cell_type": "code",
      "execution_count": null,
      "metadata": {
        "id": "n_vBXayTKXwt",
        "outputId": "108220fe-df51-4b79-f112-89a82e5ed2b0"
      },
      "outputs": [
        {
          "data": {
            "text/plain": [
              "array([[1, 2, 3],\n",
              "       [4, 5, 6],\n",
              "       [7, 8, 9]])"
            ]
          },
          "execution_count": 45,
          "metadata": {},
          "output_type": "execute_result"
        }
      ],
      "source": [
        "#Let's first create 3x3 two-dimensional NumPy array. To do so, run the following code:\n",
        "nums2d = np.array(([1,2,3],[4,5,6],[7,8,9]))\n",
        "nums2d"
      ]
    },
    {
      "cell_type": "code",
      "execution_count": null,
      "metadata": {
        "id": "LXZZhxA9KXwt",
        "outputId": "0d45f0a7-781e-4b70-b0cf-d7125e55c7f4"
      },
      "outputs": [
        {
          "name": "stdout",
          "output_type": "stream",
          "text": [
            "[4 5 6]\n"
          ]
        }
      ],
      "source": [
        "#the following script returns the first row from the nums2d\n",
        "print(nums2d[1])"
      ]
    },
    {
      "cell_type": "code",
      "execution_count": null,
      "metadata": {
        "id": "cVmI91zAKXwt",
        "outputId": "f39b0c85-1ca5-4535-cc70-912054f5fa15"
      },
      "outputs": [
        {
          "name": "stdout",
          "output_type": "stream",
          "text": [
            "[2 5 8]\n"
          ]
        }
      ],
      "source": [
        "# Get the first column only,\n",
        "print(nums2d[:,1])"
      ]
    },
    {
      "cell_type": "code",
      "execution_count": null,
      "metadata": {
        "id": "C_bHda3fKXwu",
        "outputId": "11026cba-7149-4dcf-9ec1-43feb69986ef"
      },
      "outputs": [
        {
          "name": "stdout",
          "output_type": "stream",
          "text": [
            "[[1 2]\n",
            " [4 5]]\n"
          ]
        }
      ],
      "source": [
        "#retrieve the elements from the first two rows and first two columns\n",
        "print(nums2d[:2,:2])"
      ]
    },
    {
      "cell_type": "code",
      "execution_count": null,
      "metadata": {
        "id": "7SYv6_TJKXwv",
        "outputId": "48bb4bdb-ccaf-4b4b-f529-515107449c49"
      },
      "outputs": [
        {
          "name": "stdout",
          "output_type": "stream",
          "text": [
            "1\n"
          ]
        }
      ],
      "source": [
        "#Let's retrieve an element from nums2d array, located in the first row and first column:\n",
        "print(nums2d[0, 0])"
      ]
    },
    {
      "cell_type": "code",
      "execution_count": null,
      "metadata": {
        "id": "mlLR3SRHKXwv",
        "outputId": "dfd83943-ca8c-4856-ae87-803881cac38d"
      },
      "outputs": [
        {
          "name": "stdout",
          "output_type": "stream",
          "text": [
            "6\n"
          ]
        }
      ],
      "source": [
        "# we can retrieve the element at the second row and third column as follows:\n",
        "print(nums2d[1, 2])"
      ]
    },
    {
      "cell_type": "markdown",
      "metadata": {
        "id": "lmvaa8QdKXww"
      },
      "source": [
        "# Mathematics :Arithmetic Operations with NumPy Arrays\n",
        "\n",
        "For a lot more (https://docs.scipy.org/doc/numpy/reference/routines.math.html)\n"
      ]
    },
    {
      "cell_type": "code",
      "execution_count": null,
      "metadata": {
        "id": "M-ajaPF3KXww",
        "outputId": "75c9ad91-bdc3-4677-bceb-1f2107f5b7f5"
      },
      "outputs": [
        {
          "data": {
            "text/plain": [
              "array([ 1,  2,  3,  4,  5,  6,  7,  8,  9, 10, 11, 12, 13, 14, 15])"
            ]
          },
          "execution_count": 57,
          "metadata": {},
          "output_type": "execute_result"
        }
      ],
      "source": [
        "#Let's create a simple array of 15 numbers\n",
        "nums = np.arange(1, 16)\n",
        "nums"
      ]
    },
    {
      "cell_type": "code",
      "execution_count": null,
      "metadata": {
        "id": "qaQ5T0y7KXwx",
        "outputId": "6633a247-35f3-44ce-d507-0e886440af6c"
      },
      "outputs": [
        {
          "data": {
            "text/plain": [
              "array([ 2,  4,  6,  8, 10, 12, 14, 16, 18, 20, 22, 24, 26, 28, 30])"
            ]
          },
          "execution_count": 58,
          "metadata": {},
          "output_type": "execute_result"
        }
      ],
      "source": [
        "#Let's first add two arrays together.\n",
        "# To add two arrays they should have the same shape.\n",
        "nums3 = nums + nums\n",
        "nums3"
      ]
    },
    {
      "cell_type": "code",
      "execution_count": null,
      "metadata": {
        "id": "2QWC9PV3KXwx",
        "outputId": "2e14ead2-2133-4b20-c8ac-f32aa7009677"
      },
      "outputs": [
        {
          "name": "stdout",
          "output_type": "stream",
          "text": [
            "[11 12 13 14 15 16 17 18 19 20 21 22 23 24 25]\n"
          ]
        }
      ],
      "source": [
        "# Let's add 10 to the nums array and print the resultant array on the console. Here is how you'd do it:\n",
        "nums3 = nums + 10\n",
        "print(nums3)"
      ]
    },
    {
      "cell_type": "code",
      "execution_count": null,
      "metadata": {
        "id": "SiDO9c5eKXwy",
        "outputId": "5f93d608-1220-42f6-ae90-75a6a6bdc88d"
      },
      "outputs": [
        {
          "data": {
            "text/plain": [
              "array([-9, -8, -7, -6, -5, -4, -3, -2, -1,  0,  1,  2,  3,  4,  5])"
            ]
          },
          "execution_count": 81,
          "metadata": {},
          "output_type": "execute_result"
        }
      ],
      "source": [
        "# Substraction\n",
        "nums - 10"
      ]
    },
    {
      "cell_type": "code",
      "execution_count": null,
      "metadata": {
        "id": "4A0P_Nm0KXwz",
        "outputId": "7d39d168-fa1f-45da-a7d3-6dc71d2190d1"
      },
      "outputs": [
        {
          "data": {
            "text/plain": [
              "array([ 2,  4,  6,  8, 10, 12, 14, 16, 18, 20, 22, 24, 26, 28, 30])"
            ]
          },
          "execution_count": 80,
          "metadata": {},
          "output_type": "execute_result"
        }
      ],
      "source": [
        "# Multiplication\n",
        "\n",
        "nums * 2"
      ]
    },
    {
      "cell_type": "code",
      "execution_count": null,
      "metadata": {
        "id": "lrWPpBPjKXwz",
        "outputId": "f5e42cd2-e4cc-43bc-920d-a72420cd857e"
      },
      "outputs": [
        {
          "data": {
            "text/plain": [
              "array([0.5, 1. , 1.5, 2. , 2.5, 3. , 3.5, 4. , 4.5, 5. , 5.5, 6. , 6.5,\n",
              "       7. , 7.5])"
            ]
          },
          "execution_count": 81,
          "metadata": {},
          "output_type": "execute_result"
        }
      ],
      "source": [
        "# division\n",
        "nums / 2"
      ]
    },
    {
      "cell_type": "markdown",
      "metadata": {
        "id": "UycwupXrKXw0"
      },
      "source": [
        "Apart from simple arithmetic, you can execute more complex functions on the Numpy arrays, e.g.\n",
        "\n",
        "- log,\n",
        "- square root,\n",
        "- exponential,\n",
        "- Squares \n",
        "- Floor \n",
        "- Ceil \n",
        "- Cosine\n",
        "- Sine, etc"
      ]
    },
    {
      "cell_type": "code",
      "execution_count": null,
      "metadata": {
        "id": "3XmglgG6KXw1",
        "outputId": "d77076f8-f339-47a9-b55d-2dbaa4b618ef"
      },
      "outputs": [
        {
          "data": {
            "text/plain": [
              "array([  1,   4,   9,  16,  25,  36,  49,  64,  81, 100, 121, 144, 169,\n",
              "       196, 225], dtype=int32)"
            ]
          },
          "execution_count": 82,
          "metadata": {},
          "output_type": "execute_result"
        }
      ],
      "source": [
        "# Square\n",
        "np.square(nums)"
      ]
    },
    {
      "cell_type": "code",
      "execution_count": null,
      "metadata": {
        "id": "VmSXSNifKXw1",
        "outputId": "6f4e64e0-30f0-49eb-80d0-582e805a552f"
      },
      "outputs": [
        {
          "data": {
            "text/plain": [
              "array([1.        , 1.41421356, 1.73205081, 2.        , 2.23606798,\n",
              "       2.44948974, 2.64575131, 2.82842712, 3.        , 3.16227766,\n",
              "       3.31662479, 3.46410162, 3.60555128, 3.74165739, 3.87298335])"
            ]
          },
          "execution_count": 83,
          "metadata": {},
          "output_type": "execute_result"
        }
      ],
      "source": [
        "# Square root\n",
        "np.sqrt(nums)"
      ]
    },
    {
      "cell_type": "code",
      "execution_count": null,
      "metadata": {
        "id": "ONwzl4KSKXw2",
        "outputId": "6b4bfda6-37f1-405c-ebe0-6257b294c782"
      },
      "outputs": [
        {
          "data": {
            "text/plain": [
              "array([0., 1., 1., 2., 2., 3., 3., 4., 4., 5., 5., 6., 6., 7., 7.])"
            ]
          },
          "execution_count": 82,
          "metadata": {},
          "output_type": "execute_result"
        }
      ],
      "source": [
        "# Floor\n",
        "# The largest integer less than or equal to each element\n",
        "np.floor(nums/2)"
      ]
    },
    {
      "cell_type": "code",
      "execution_count": null,
      "metadata": {
        "id": "9_suQxAVKXw2",
        "outputId": "b8e746ba-4b7d-45d7-f0d9-a4f06c408702"
      },
      "outputs": [
        {
          "data": {
            "text/plain": [
              "array([1., 1., 2., 2., 3., 3., 4., 4., 5., 5., 6., 6., 7., 7., 8.])"
            ]
          },
          "execution_count": 85,
          "metadata": {},
          "output_type": "execute_result"
        }
      ],
      "source": [
        "# Ceiling\n",
        "# The smallest integer greater than or equal to each element\n",
        "np.ceil(nums/2)"
      ]
    },
    {
      "cell_type": "code",
      "execution_count": null,
      "metadata": {
        "id": "MiCizg5KKXw3",
        "outputId": "463530d2-aa46-4942-b6b3-e60ab85343db"
      },
      "outputs": [
        {
          "name": "stdout",
          "output_type": "stream",
          "text": [
            "[0.         0.69314718 1.09861229 1.38629436 1.60943791 1.79175947\n",
            " 1.94591015 2.07944154 2.19722458 2.30258509 2.39789527 2.48490665\n",
            " 2.56494936 2.63905733 2.7080502 ]\n"
          ]
        }
      ],
      "source": [
        "# log\n",
        "nums3 = np.log(nums)\n",
        "print(nums3)"
      ]
    },
    {
      "cell_type": "code",
      "execution_count": null,
      "metadata": {
        "id": "R5wCpvchKXw3",
        "outputId": "566a3cd6-3d49-42ce-f061-d20237fe74fb"
      },
      "outputs": [
        {
          "name": "stdout",
          "output_type": "stream",
          "text": [
            "[2.71828183e+00 7.38905610e+00 2.00855369e+01 5.45981500e+01\n",
            " 1.48413159e+02 4.03428793e+02 1.09663316e+03 2.98095799e+03\n",
            " 8.10308393e+03 2.20264658e+04 5.98741417e+04 1.62754791e+05\n",
            " 4.42413392e+05 1.20260428e+06 3.26901737e+06]\n"
          ]
        }
      ],
      "source": [
        "# exp Function\n",
        "nums3 = np.exp(nums)\n",
        "print(nums3)"
      ]
    },
    {
      "cell_type": "code",
      "execution_count": null,
      "metadata": {
        "id": "pJDdM8nSKXw4",
        "outputId": "3534f23c-4919-4a2c-b80a-fa3296610838"
      },
      "outputs": [
        {
          "name": "stdout",
          "output_type": "stream",
          "text": [
            "[ 0.84147098  0.90929743  0.14112001 -0.7568025  -0.95892427 -0.2794155\n",
            "  0.6569866   0.98935825  0.41211849 -0.54402111 -0.99999021 -0.53657292\n",
            "  0.42016704  0.99060736  0.65028784]\n"
          ]
        }
      ],
      "source": [
        "# The sine Function\n",
        "nums3 = np.sin(nums)\n",
        "print(nums3)"
      ]
    },
    {
      "cell_type": "code",
      "execution_count": null,
      "metadata": {
        "id": "wZgopBghKXw4",
        "outputId": "a93d5e56-b455-4df7-9f49-6dcb4c40d9a0"
      },
      "outputs": [
        {
          "name": "stdout",
          "output_type": "stream",
          "text": [
            "[ 0.54030231 -0.41614684 -0.9899925  -0.65364362  0.28366219  0.96017029\n",
            "  0.75390225 -0.14550003 -0.91113026 -0.83907153  0.0044257   0.84385396\n",
            "  0.90744678  0.13673722 -0.75968791]\n"
          ]
        }
      ],
      "source": [
        "# The cosine Function\n",
        "nums3 = np.cos(nums)\n",
        "print(nums3)"
      ]
    },
    {
      "cell_type": "code",
      "execution_count": null,
      "metadata": {
        "id": "oBxc9LukKXw5"
      },
      "outputs": [],
      "source": []
    },
    {
      "cell_type": "markdown",
      "metadata": {
        "id": "ZQFyAciGKXw5"
      },
      "source": [
        "# Linear Algebra Operations with NumPy Arrays\n",
        "\n",
        "One of the biggest advantages of the NumPy arrays is their ability to perform linear algebra operations, such as the vector dot product and the matrix dot product, much faster than the default Python lists.\n"
      ]
    },
    {
      "cell_type": "markdown",
      "metadata": {
        "id": "psQLQDV2KXw5"
      },
      "source": [
        "### Finding the Vector Dot Product\n",
        "\n",
        "- Computing the vector dot product for the two vectors can be calculated by multiplying the corresponding elements of the two vectors and then adding the results from the products.\n",
        "\n",
        "- Let's create two vectors and try to find their dot product manually. A vector in NumPy is basically just a 1-dimensional array. Execute the following script to create our vectors:\n",
        "\n"
      ]
    },
    {
      "cell_type": "code",
      "execution_count": null,
      "metadata": {
        "id": "Ek2Z9gcoKXw5"
      },
      "outputs": [],
      "source": [
        "x = np.array([2,4])\n",
        "y = np.array([1,3])"
      ]
    },
    {
      "cell_type": "code",
      "execution_count": null,
      "metadata": {
        "id": "w_7IbkeMKXw6",
        "outputId": "aa1e2378-3be2-43cf-9d68-3659b14f3cad"
      },
      "outputs": [
        {
          "name": "stdout",
          "output_type": "stream",
          "text": [
            "14\n"
          ]
        }
      ],
      "source": [
        "# The dot product of the above two vectors is (2 x 1) + (4 x 3) = 14.\n",
        "\n",
        "#Let's find the dot product without using the NumPy library. Execute the following script to do so:\n",
        "dot_product = 0\n",
        "for a,b in zip(x,y):\n",
        "    dot_product += a * b\n",
        "\n",
        "print(dot_product)\n",
        "#In the script above, we simply looped through corresponding elements in x and y vectors, multiplied them and added them to the previous sum. \n",
        "#If you run the script above, you will see \"14\" printed to the console."
      ]
    },
    {
      "cell_type": "code",
      "execution_count": null,
      "metadata": {
        "id": "kYZpA6xeKXxI",
        "outputId": "f00720dd-0fd7-4f42-a150-138898d537e8"
      },
      "outputs": [
        {
          "name": "stdout",
          "output_type": "stream",
          "text": [
            "14\n"
          ]
        }
      ],
      "source": [
        "# Now, let's see how we can find the dot product using the NumPy library. Look at the following script:\n",
        "a = x * y\n",
        "print(a.sum())"
      ]
    },
    {
      "cell_type": "code",
      "execution_count": null,
      "metadata": {
        "id": "iKRsiGFTKXxI",
        "outputId": "ad8a86d9-4838-467b-dfc6-f8417300805f"
      },
      "outputs": [
        {
          "name": "stdout",
          "output_type": "stream",
          "text": [
            "14\n"
          ]
        }
      ],
      "source": [
        "#NumPy library makes it even easier to find the dot product via the dot method, as shown here:\n",
        "print(x.dot(y))"
      ]
    },
    {
      "cell_type": "markdown",
      "metadata": {
        "id": "k8ujzMgNKXxI"
      },
      "source": []
    },
    {
      "cell_type": "markdown",
      "metadata": {
        "id": "BveJCfvCKXxJ"
      },
      "source": [
        "### Matrix Multiplication\n",
        "\n",
        "- Like the dot product of two vectors, you can also multiply two matrices.\n",
        "- In order to multiply two matrices,the inner dimensions of the matrices must match, which means that the number of columns of the matrix on the left should be equal to the number of rows of the matrix on the right side of the product\n",
        "\n"
      ]
    },
    {
      "cell_type": "markdown",
      "metadata": {
        "id": "y7AzHSH0KXxJ"
      },
      "source": [
        "!['new'](https://github.com/GEOFFREY-MO/Africa-Data-School/blob/main/12%20Numpy/images/maxtrix.jpg?raw=1)"
      ]
    },
    {
      "cell_type": "code",
      "execution_count": null,
      "metadata": {
        "id": "iQ4C5VpFKXxJ",
        "outputId": "c01bbb44-cd7d-46af-8fa6-51e31c40c089"
      },
      "outputs": [
        {
          "name": "stdout",
          "output_type": "stream",
          "text": [
            "[[30 36]\n",
            " [66 81]]\n"
          ]
        }
      ],
      "source": [
        "# multiply two matrices, the dot function can be used as shown below:\n",
        "X = np.array(([1,2,3], [4,5,6]))\n",
        "\n",
        "Y = np.array(([1,2], [4,5], [7,8]))\n",
        "\n",
        "Z = np.dot(X, Y)\n",
        "\n",
        "print(Z) \n"
      ]
    },
    {
      "cell_type": "code",
      "execution_count": null,
      "metadata": {
        "id": "VCBSv062KXxK",
        "outputId": "191f09a1-507e-41d7-e10d-be6d8ac0de16"
      },
      "outputs": [
        {
          "data": {
            "text/plain": [
              "array([[1, 2],\n",
              "       [4, 5],\n",
              "       [7, 8]])"
            ]
          },
          "execution_count": 94,
          "metadata": {},
          "output_type": "execute_result"
        }
      ],
      "source": [
        "Y"
      ]
    },
    {
      "cell_type": "markdown",
      "metadata": {
        "id": "idDvN_LbKXxK"
      },
      "source": [
        "In the script above we created a 3x2 matrix named X and a 2x3 matrix named Y. We then find the dot product of the two matrices and assigned the resultant matrix to the variable Z. Finally, we print the resultant matrix to the console. In the output you should see a 2x2 matrix as shown below:\n"
      ]
    },
    {
      "cell_type": "code",
      "execution_count": null,
      "metadata": {
        "id": "6uAWOIbhKXxK",
        "outputId": "c64760b7-7213-4c95-9277-f874f35127ae"
      },
      "outputs": [
        {
          "data": {
            "text/plain": [
              "array([[ 1,  4],\n",
              "       [16, 25],\n",
              "       [49, 64]])"
            ]
          },
          "execution_count": 98,
          "metadata": {},
          "output_type": "execute_result"
        }
      ],
      "source": [
        "# Let's try to multiply the matrices X and Y element-wise:\n",
        "# To perfrom element-wise multiplication  on two matrices, they must be the same shape. \n",
        "Z = np.multiply(Y, Y)\n",
        "Z"
      ]
    },
    {
      "cell_type": "code",
      "execution_count": null,
      "metadata": {
        "id": "-xyu5QQ8KXxK",
        "outputId": "b624c0a5-5cd8-4fbc-d005-bd659a87df63"
      },
      "outputs": [
        {
          "name": "stdout",
          "output_type": "stream",
          "text": [
            "[[ 5 12]\n",
            " [21 32]]\n"
          ]
        }
      ],
      "source": [
        "arr1 = np.array([[1, 2],\n",
        "                 [3, 4]])\n",
        "arr2 = np.array([[5, 6],\n",
        "                 [7, 8]])\n",
        "\n",
        "arr_result = np.multiply(arr1, arr2)\n",
        "\n",
        "print(arr_result)"
      ]
    },
    {
      "cell_type": "markdown",
      "metadata": {
        "id": "iRfcnLdXKXxL"
      },
      "source": [
        "### Finding the Inverse of a Matrix\n",
        "\n",
        "Another very useful matrix operation is finding the inverse of a matrix. The NumPy library contains the ìnv function in the linalg module.\n"
      ]
    },
    {
      "cell_type": "code",
      "execution_count": null,
      "metadata": {
        "id": "6xdTn06NKXxL",
        "outputId": "597fccda-1667-4d7b-b751-eeed3adc9c29"
      },
      "outputs": [
        {
          "name": "stdout",
          "output_type": "stream",
          "text": [
            "[[-2.   1. ]\n",
            " [ 1.5 -0.5]]\n"
          ]
        }
      ],
      "source": [
        "#For our example, let's find the inverse of a 2x2 matrix. Take a look at the following code:\n",
        "Y = np.array(([1,2], [3,4]))\n",
        "Z = np.linalg.inv(Y)\n",
        "print(Z)"
      ]
    },
    {
      "cell_type": "markdown",
      "metadata": {
        "id": "ftXJeyggKXxM"
      },
      "source": [
        "Now in order to verify if the inverse has been calculated correctly, we can take the dot product of a matrix with its inverse, which should yield an identity matrix."
      ]
    },
    {
      "cell_type": "code",
      "execution_count": null,
      "metadata": {
        "id": "bnRFzaiSKXxM",
        "outputId": "2612c49c-0c11-45f9-fa77-d690f9f10848"
      },
      "outputs": [
        {
          "name": "stdout",
          "output_type": "stream",
          "text": [
            "[[1.0000000e+00 4.4408921e-16]\n",
            " [0.0000000e+00 1.0000000e+00]]\n"
          ]
        }
      ],
      "source": [
        "W = np.dot(Z,Y)\n",
        "print(W)"
      ]
    },
    {
      "cell_type": "markdown",
      "metadata": {
        "id": "S2JPmrkpKXxM"
      },
      "source": [
        "And the result was as we expected. Ones in the major diagonal and zeros (or very close to zero) elsewhere"
      ]
    },
    {
      "cell_type": "markdown",
      "metadata": {
        "id": "S4Xw0YWeKXxN"
      },
      "source": [
        "### Finding the Determinant of a Matrix\n",
        "\n",
        "The determinant of a matrix can be calculated using the det method, which is shown here:\n"
      ]
    },
    {
      "cell_type": "code",
      "execution_count": null,
      "metadata": {
        "id": "MKs_Gv6KKXxN",
        "outputId": "f315f79c-d83e-4616-b62e-b33e4dea5669"
      },
      "outputs": [
        {
          "name": "stdout",
          "output_type": "stream",
          "text": [
            "-2.9999999999999996\n"
          ]
        }
      ],
      "source": [
        "X = np.array(([1,2], [4,5]))\n",
        "\n",
        "Z = np.linalg.det(X)\n",
        "\n",
        "print(Z)"
      ]
    },
    {
      "cell_type": "markdown",
      "metadata": {
        "id": "txxBjz4bKXxO"
      },
      "source": [
        "### Finding the Trace of a Matrix\n",
        "\n",
        "The trace of a matrix is the sum of all the elements in the major diagonal of a matrix. The NumPy library contains trace function that can be used to find the trace of a matrix.\n"
      ]
    },
    {
      "cell_type": "code",
      "execution_count": null,
      "metadata": {
        "id": "hkF45x2iKXxO",
        "outputId": "7e4f3de7-d795-4ca5-c562-6acf27173cf4"
      },
      "outputs": [
        {
          "name": "stdout",
          "output_type": "stream",
          "text": [
            "15\n"
          ]
        }
      ],
      "source": [
        "X = np.array(([1,2,3], [4,5,6], [7,8,9]))\n",
        "\n",
        "Z = np.trace(X)\n",
        "\n",
        "print(Z)"
      ]
    },
    {
      "cell_type": "markdown",
      "metadata": {
        "id": "e3Ow2KQKKXxO"
      },
      "source": [
        "# Practical\n",
        "# Creating a machine learning model using numpy Linear Model\n",
        "### LINEAR MODEL\n",
        "\n",
        "- One of the simplest models of machine learning is linear regression\n",
        "- There are many ways to find the coefficients and the intercept, you can use least squares or one of the optimisation methods like gradient decent\n",
        "- Least Squares is method a find the best fit line to data. It uses simple calculus and linear algebra to minimize errors:\n",
        "\n",
        "- While it is not necessary to dig into all of the math that goes into every machine learning algorithm (have you dug into the source code of your other favorite modules to see how they do every little thing?), linear algebra is essential to machine learning, and it is useful to understand the true building blocks that machine learning is built upon.\n",
        "\n",
        "- The objective of linear algebra is to calculate relationships of points in vector space simple straight line: y = mx + b, where m is the slope and b is the y-intercept. This would be the equation used to discover y, and we could rearrange it instead to discover x using basic algebraic principles: x = (y-b) / m.\n",
        "\n",
        "- Alright, so, our objective is to find the best-fit line. Not just a good-fit line, the best one! The definition of this line will be y = mx + b. The y is the answer (our other coordinate, or it could even be our \"feature\"), so we'll still be needing m (the slope) and b (y-intercept), since x could be any possible point along the x-axis, so it is already known.\n",
        "\n"
      ]
    },
    {
      "cell_type": "markdown",
      "metadata": {
        "id": "nB8j8vW7KXxP"
      },
      "source": [
        "## Formula\n",
        "###### y = mx + b"
      ]
    },
    {
      "cell_type": "code",
      "execution_count": null,
      "metadata": {
        "id": "aTbKLuR-KXxP"
      },
      "outputs": [],
      "source": [
        "# list of numbers \n",
        "# datapoints we're going to use, xs and ys.\n",
        "xs = [1,2,3,4,5]\n",
        "ys = [5,4,6,5,6]"
      ]
    },
    {
      "cell_type": "markdown",
      "metadata": {
        "id": "nzd6iJySKXxP"
      },
      "source": [
        "We can do a lot with lists, but we need to be able to do some simple matrix operations, which aren't available with simple lists, so we'll be using NumPy. "
      ]
    },
    {
      "cell_type": "code",
      "execution_count": null,
      "metadata": {
        "id": "AJhwQnvOKXxP"
      },
      "outputs": [],
      "source": [
        "xs = np.array([1,2,3,4,5], dtype=np.float64)\n",
        "ys = np.array([5,4,6,5,6], dtype=np.float64)"
      ]
    },
    {
      "cell_type": "markdown",
      "metadata": {
        "id": "1xgLJzFGKXxQ"
      },
      "source": [
        "# if graphed, our data should look like:\n",
        "!['new'](https://github.com/GEOFFREY-MO/Africa-Data-School/blob/main/12%20Numpy/images/image1.png?raw=1)"
      ]
    },
    {
      "cell_type": "markdown",
      "metadata": {
        "id": "WffQwdXFKXxQ"
      },
      "source": [
        "### Slope\n",
        "!['new'](https://github.com/GEOFFREY-MO/Africa-Data-School/blob/main/12%20Numpy/images/slope.png?raw=1)\n",
        "\n",
        "- The bar over the letters signifies a mean/average. If two letters are sitting next to each other, you multiply them. The xs and ys are from all of the existing coordinates. So we now know the m (the slope) of the best-fit line's definition in y=mx+b, now we just need the b (y intercept). There's a formula for that too:"
      ]
    },
    {
      "cell_type": "code",
      "execution_count": null,
      "metadata": {
        "id": "ev3xKPkIKXxQ",
        "outputId": "e2eda09c-dec2-4d7a-9cb3-8453a05c599a"
      },
      "outputs": [
        {
          "data": {
            "text/plain": [
              "0.3"
            ]
          },
          "execution_count": 71,
          "metadata": {},
          "output_type": "execute_result"
        }
      ],
      "source": [
        "m = (((np.mean(xs)*np.mean(ys)) - np.mean(xs*ys)) /\n",
        "         ((np.mean(xs)**2) - np.mean(xs**2)))\n",
        "m = round(m, 1)\n",
        "m"
      ]
    },
    {
      "cell_type": "markdown",
      "metadata": {
        "id": "Ae-ZJVRvKXxQ"
      },
      "source": [
        "### best-fit-y-intercept\n",
        "\n",
        "!['new'](https://github.com/GEOFFREY-MO/Africa-Data-School/blob/main/12%20Numpy/images/best-fit-y-intercept.png?raw=1)"
      ]
    },
    {
      "cell_type": "code",
      "execution_count": null,
      "metadata": {
        "id": "3Dq3VugIKXxR",
        "outputId": "25510f1a-c6f8-4634-f9cf-e04db93d6e49"
      },
      "outputs": [
        {
          "data": {
            "text/plain": [
              "4.300000000000001"
            ]
          },
          "execution_count": 73,
          "metadata": {},
          "output_type": "execute_result"
        }
      ],
      "source": [
        "b = np.mean(ys) - m*np.mean(xs)\n",
        "b"
      ]
    },
    {
      "cell_type": "code",
      "execution_count": null,
      "metadata": {
        "id": "xcBlKipzKXxR"
      },
      "outputs": [],
      "source": [
        "regression_line = []\n",
        "for x in xs:\n",
        "    regression_line.append((m*x)+b)"
      ]
    },
    {
      "cell_type": "code",
      "execution_count": null,
      "metadata": {
        "id": "FpaRMIn5KXxR"
      },
      "outputs": [],
      "source": [
        "import matplotlib.pyplot as plt\n",
        "from matplotlib import style\n",
        "style.use('ggplot')"
      ]
    },
    {
      "cell_type": "code",
      "execution_count": null,
      "metadata": {
        "id": "VmSMqc5yKXxR",
        "outputId": "02cf9416-6db3-45c9-b1a0-8c8a1bfa17b4"
      },
      "outputs": [
        {
          "data": {
            "image/png": "[encoded data removed]",
            "text/plain": [
              "<Figure size 432x288 with 1 Axes>"
            ]
          },
          "metadata": {},
          "output_type": "display_data"
        }
      ],
      "source": [
        "plt.scatter(xs,ys,color='#003F72',label='data')\n",
        "plt.plot(xs, regression_line, label='regression line')\n",
        "plt.legend(loc=4)\n",
        "plt.show()"
      ]
    },
    {
      "cell_type": "code",
      "execution_count": null,
      "metadata": {
        "id": "5T0D4vSWKXxS"
      },
      "outputs": [],
      "source": [
        "# let's predict out a couple of points:\n",
        "predict_x = 5\n",
        "#y = 0.3*7 + b"
      ]
    },
    {
      "cell_type": "code",
      "execution_count": null,
      "metadata": {
        "id": "XB8d1zy9KXxS",
        "outputId": "489b8673-63d7-4e96-82da-5f55a5af8c90"
      },
      "outputs": [
        {
          "name": "stdout",
          "output_type": "stream",
          "text": [
            "5.800000000000001\n"
          ]
        }
      ],
      "source": [
        "# We have our input data, our \"feature\" so to speak. What's the label?\n",
        "predict_y = (m*predict_x)+b\n",
        "print(predict_y)"
      ]
    },
    {
      "cell_type": "markdown",
      "metadata": {
        "id": "pfOyZO4XKXxS"
      },
      "source": [
        "# END"
      ]
    }
  ],
  "metadata": {
    "kernelspec": {
      "display_name": "Python 3",
      "language": "python",
      "name": "python3"
    },
    "language_info": {
      "codemirror_mode": {
        "name": "ipython",
        "version": 3
      },
      "file_extension": ".py",
      "mimetype": "text/x-python",
      "name": "python",
      "nbconvert_exporter": "python",
      "pygments_lexer": "ipython3",
      "version": "3.8.8"
    },
    "colab": {
      "provenance": [],
      "include_colab_link": true
    }
  },
  "nbformat": 4,
  "nbformat_minor": 0
}