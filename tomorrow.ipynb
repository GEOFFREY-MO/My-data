{
  "nbformat": 4,
  "nbformat_minor": 0,
  "metadata": {
    "colab": {
      "provenance": [],
      "authorship_tag": "ABX9TyMN8fN/cK8IuJCFNOjOpPau",
      "include_colab_link": true
    },
    "kernelspec": {
      "name": "python3",
      "display_name": "Python 3"
    },
    "language_info": {
      "name": "python"
    }
  },
  "cells": [
    {
      "cell_type": "markdown",
      "metadata": {
        "id": "view-in-github",
        "colab_type": "text"
      },
      "source": [
        "<a href=\"https://colab.research.google.com/github/GEOFFREY-MO/My-data/blob/main/tomorrow.ipynb\" target=\"_parent\"><img src=\"https://colab.research.google.com/assets/colab-badge.svg\" alt=\"Open In Colab\"/></a>"
      ]
    },
    {
      "cell_type": "code",
      "source": [
        "#import necessary libraries\n",
        "import pandas as pd\n",
        "import requests\n",
        "from datetime import datetime, timedelta\n",
        "import os"
      ],
      "metadata": {
        "id": "j6NOVwwVIP4j"
      },
      "execution_count": null,
      "outputs": []
    },
    {
      "cell_type": "markdown",
      "source": [
        "**Making Requests for the API keys**"
      ],
      "metadata": {
        "id": "SCO4TcKlJRn1"
      }
    },
    {
      "cell_type": "code",
      "source": [
        "url = \"https://api.tomorrow.io/v4/timelines\"\n",
        "\n",
        "querystring = {\n",
        "    'location':'Kenya',\n",
        "    'fields':['temperature','cloudCover','humidity','pressureSurfaceLevel','rainIntensity'],\n",
        "    'units':'imperial',\n",
        "    'timesteps':'1d',\n",
        "    'apikey':'U188WPIa9pIzejPlPBU5tDd6kU8WzIrF'}"
      ],
      "metadata": {
        "id": "NUSmgT8rJPuo"
      },
      "execution_count": null,
      "outputs": []
    },
    {
      "cell_type": "code",
      "source": [
        "response = requests.request('GET',url,params = querystring)\n",
        "print(response.text)"
      ],
      "metadata": {
        "colab": {
          "base_uri": "https://localhost:8080/"
        },
        "id": "M87hMUjtK0O7",
        "outputId": "12caea2f-609f-487c-ed95-54b86ea674ab"
      },
      "execution_count": null,
      "outputs": [
        {
          "output_type": "stream",
          "name": "stdout",
          "text": [
            "{\"data\":{\"timelines\":[{\"timestep\":\"1d\",\"endTime\":\"2023-11-20T03:00:00Z\",\"startTime\":\"2023-11-15T03:00:00Z\",\"intervals\":[{\"startTime\":\"2023-11-15T03:00:00Z\",\"values\":{\"cloudCover\":100,\"humidity\":98.58,\"pressureSurfaceLevel\":28.83,\"rainIntensity\":0.05,\"temperature\":86.89}},{\"startTime\":\"2023-11-16T03:00:00Z\",\"values\":{\"cloudCover\":100,\"humidity\":95.84,\"pressureSurfaceLevel\":28.84,\"rainIntensity\":0,\"temperature\":87.59}},{\"startTime\":\"2023-11-17T03:00:00Z\",\"values\":{\"cloudCover\":100,\"humidity\":93.91,\"pressureSurfaceLevel\":28.86,\"rainIntensity\":0.04,\"temperature\":86.14}},{\"startTime\":\"2023-11-18T03:00:00Z\",\"values\":{\"cloudCover\":100,\"humidity\":88.53,\"pressureSurfaceLevel\":28.86,\"rainIntensity\":0.03,\"temperature\":86.31}},{\"startTime\":\"2023-11-19T03:00:00Z\",\"values\":{\"cloudCover\":91.59,\"humidity\":81.73,\"pressureSurfaceLevel\":28.78,\"rainIntensity\":0.04,\"temperature\":88.83}},{\"startTime\":\"2023-11-20T03:00:00Z\",\"values\":{\"cloudCover\":98.73,\"humidity\":81.73,\"pressureSurfaceLevel\":28.77,\"rainIntensity\":0.01,\"temperature\":78.98}}]}]}}\n"
          ]
        }
      ]
    },
    {
      "cell_type": "code",
      "source": [
        "#identifying the type of the data\n",
        "type(response)"
      ],
      "metadata": {
        "colab": {
          "base_uri": "https://localhost:8080/"
        },
        "id": "r5reFCkaS1Vn",
        "outputId": "edbef509-d393-4c2f-a71b-16876490b5a8"
      },
      "execution_count": null,
      "outputs": [
        {
          "output_type": "execute_result",
          "data": {
            "text/plain": [
              "requests.models.Response"
            ]
          },
          "metadata": {},
          "execution_count": 20
        }
      ]
    },
    {
      "cell_type": "code",
      "source": [
        "tmpr=[]\n",
        "hmd=[]\n",
        "dat=[]\n",
        "RI=[]\n",
        "CV=[]\n",
        "ps=[]\n",
        "results = response.json()['data']['timelines'][0]['intervals']\n",
        "for daily_result in results:\n",
        "   date = daily_result['startTime'][0:10]\n",
        "   temp = round(daily_result['values']['temperature'])\n",
        "   hum=daily_result['values']['humidity']\n",
        "   cloud=daily_result['values']['cloudCover']\n",
        "   press=daily_result['values']['pressureSurfaceLevel']\n",
        "   rain=daily_result['values']['rainIntensity']\n",
        "   dat.append(date)\n",
        "   tmpr.append(temp)\n",
        "   hmd.append(hum)\n",
        "   RI.append(rain)\n",
        "   CV.append(cloud)\n",
        "   ps.append(press)"
      ],
      "metadata": {
        "id": "gcSdTfL2YozS"
      },
      "execution_count": null,
      "outputs": []
    },
    {
      "cell_type": "code",
      "source": [
        "data = pd.DataFrame(list(zip(dat,hmd,tmpr,RI,CV,ps)),columns= ['Date','Humidity','Temperature','Rainfall Intensity','CloudCover','Pressure'])\n",
        "data.head()"
      ],
      "metadata": {
        "colab": {
          "base_uri": "https://localhost:8080/",
          "height": 206
        },
        "id": "hpNUDfNVZJJL",
        "outputId": "7beef300-40ee-4ace-824c-0e3ecb628061"
      },
      "execution_count": null,
      "outputs": [
        {
          "output_type": "execute_result",
          "data": {
            "text/plain": [
              "         Date  Humidity  Temperature  Rainfall Intensity  CloudCover  Pressure\n",
              "0  2023-11-15     98.58           87                0.05      100.00     28.83\n",
              "1  2023-11-16     95.84           88                0.00      100.00     28.84\n",
              "2  2023-11-17     93.91           86                0.04      100.00     28.86\n",
              "3  2023-11-18     88.53           86                0.03      100.00     28.86\n",
              "4  2023-11-19     81.73           89                0.04       91.59     28.78"
            ],
            "text/html": [
              "\n",
              "  <div id=\"df-fc695e25-b0ab-416f-9d11-992a986453fc\" class=\"colab-df-container\">\n",
              "    <div>\n",
              "<style scoped>\n",
              "    .dataframe tbody tr th:only-of-type {\n",
              "        vertical-align: middle;\n",
              "    }\n",
              "\n",
              "    .dataframe tbody tr th {\n",
              "        vertical-align: top;\n",
              "    }\n",
              "\n",
              "    .dataframe thead th {\n",
              "        text-align: right;\n",
              "    }\n",
              "</style>\n",
              "<table border=\"1\" class=\"dataframe\">\n",
              "  <thead>\n",
              "    <tr style=\"text-align: right;\">\n",
              "      <th></th>\n",
              "      <th>Date</th>\n",
              "      <th>Humidity</th>\n",
              "      <th>Temperature</th>\n",
              "      <th>Rainfall Intensity</th>\n",
              "      <th>CloudCover</th>\n",
              "      <th>Pressure</th>\n",
              "    </tr>\n",
              "  </thead>\n",
              "  <tbody>\n",
              "    <tr>\n",
              "      <th>0</th>\n",
              "      <td>2023-11-15</td>\n",
              "      <td>98.58</td>\n",
              "      <td>87</td>\n",
              "      <td>0.05</td>\n",
              "      <td>100.00</td>\n",
              "      <td>28.83</td>\n",
              "    </tr>\n",
              "    <tr>\n",
              "      <th>1</th>\n",
              "      <td>2023-11-16</td>\n",
              "      <td>95.84</td>\n",
              "      <td>88</td>\n",
              "      <td>0.00</td>\n",
              "      <td>100.00</td>\n",
              "      <td>28.84</td>\n",
              "    </tr>\n",
              "    <tr>\n",
              "      <th>2</th>\n",
              "      <td>2023-11-17</td>\n",
              "      <td>93.91</td>\n",
              "      <td>86</td>\n",
              "      <td>0.04</td>\n",
              "      <td>100.00</td>\n",
              "      <td>28.86</td>\n",
              "    </tr>\n",
              "    <tr>\n",
              "      <th>3</th>\n",
              "      <td>2023-11-18</td>\n",
              "      <td>88.53</td>\n",
              "      <td>86</td>\n",
              "      <td>0.03</td>\n",
              "      <td>100.00</td>\n",
              "      <td>28.86</td>\n",
              "    </tr>\n",
              "    <tr>\n",
              "      <th>4</th>\n",
              "      <td>2023-11-19</td>\n",
              "      <td>81.73</td>\n",
              "      <td>89</td>\n",
              "      <td>0.04</td>\n",
              "      <td>91.59</td>\n",
              "      <td>28.78</td>\n",
              "    </tr>\n",
              "  </tbody>\n",
              "</table>\n",
              "</div>\n",
              "    <div class=\"colab-df-buttons\">\n",
              "\n",
              "  <div class=\"colab-df-container\">\n",
              "    <button class=\"colab-df-convert\" onclick=\"convertToInteractive('df-fc695e25-b0ab-416f-9d11-992a986453fc')\"\n",
              "            title=\"Convert this dataframe to an interactive table.\"\n",
              "            style=\"display:none;\">\n",
              "\n",
              "  <svg xmlns=\"http://www.w3.org/2000/svg\" height=\"24px\" viewBox=\"0 -960 960 960\">\n",
              "    <path d=\"M120-120v-720h720v720H120Zm60-500h600v-160H180v160Zm220 220h160v-160H400v160Zm0 220h160v-160H400v160ZM180-400h160v-160H180v160Zm440 0h160v-160H620v160ZM180-180h160v-160H180v160Zm440 0h160v-160H620v160Z\"/>\n",
              "  </svg>\n",
              "    </button>\n",
              "\n",
              "  <style>\n",
              "    .colab-df-container {\n",
              "      display:flex;\n",
              "      gap: 12px;\n",
              "    }\n",
              "\n",
              "    .colab-df-convert {\n",
              "      background-color: #E8F0FE;\n",
              "      border: none;\n",
              "      border-radius: 50%;\n",
              "      cursor: pointer;\n",
              "      display: none;\n",
              "      fill: #1967D2;\n",
              "      height: 32px;\n",
              "      padding: 0 0 0 0;\n",
              "      width: 32px;\n",
              "    }\n",
              "\n",
              "    .colab-df-convert:hover {\n",
              "      background-color: #E2EBFA;\n",
              "      box-shadow: 0px 1px 2px rgba(60, 64, 67, 0.3), 0px 1px 3px 1px rgba(60, 64, 67, 0.15);\n",
              "      fill: #174EA6;\n",
              "    }\n",
              "\n",
              "    .colab-df-buttons div {\n",
              "      margin-bottom: 4px;\n",
              "    }\n",
              "\n",
              "    [theme=dark] .colab-df-convert {\n",
              "      background-color: #3B4455;\n",
              "      fill: #D2E3FC;\n",
              "    }\n",
              "\n",
              "    [theme=dark] .colab-df-convert:hover {\n",
              "      background-color: #434B5C;\n",
              "      box-shadow: 0px 1px 3px 1px rgba(0, 0, 0, 0.15);\n",
              "      filter: drop-shadow(0px 1px 2px rgba(0, 0, 0, 0.3));\n",
              "      fill: #FFFFFF;\n",
              "    }\n",
              "  </style>\n",
              "\n",
              "    <script>\n",
              "      const buttonEl =\n",
              "        document.querySelector('#df-fc695e25-b0ab-416f-9d11-992a986453fc button.colab-df-convert');\n",
              "      buttonEl.style.display =\n",
              "        google.colab.kernel.accessAllowed ? 'block' : 'none';\n",
              "\n",
              "      async function convertToInteractive(key) {\n",
              "        const element = document.querySelector('#df-fc695e25-b0ab-416f-9d11-992a986453fc');\n",
              "        const dataTable =\n",
              "          await google.colab.kernel.invokeFunction('convertToInteractive',\n",
              "                                                    [key], {});\n",
              "        if (!dataTable) return;\n",
              "\n",
              "        const docLinkHtml = 'Like what you see? Visit the ' +\n",
              "          '<a target=\"_blank\" href=https://colab.research.google.com/notebooks/data_table.ipynb>data table notebook</a>'\n",
              "          + ' to learn more about interactive tables.';\n",
              "        element.innerHTML = '';\n",
              "        dataTable['output_type'] = 'display_data';\n",
              "        await google.colab.output.renderOutput(dataTable, element);\n",
              "        const docLink = document.createElement('div');\n",
              "        docLink.innerHTML = docLinkHtml;\n",
              "        element.appendChild(docLink);\n",
              "      }\n",
              "    </script>\n",
              "  </div>\n",
              "\n",
              "\n",
              "<div id=\"df-dbf26616-785c-4cb5-9019-9111a60e42ac\">\n",
              "  <button class=\"colab-df-quickchart\" onclick=\"quickchart('df-dbf26616-785c-4cb5-9019-9111a60e42ac')\"\n",
              "            title=\"Suggest charts\"\n",
              "            style=\"display:none;\">\n",
              "\n",
              "<svg xmlns=\"http://www.w3.org/2000/svg\" height=\"24px\"viewBox=\"0 0 24 24\"\n",
              "     width=\"24px\">\n",
              "    <g>\n",
              "        <path d=\"M19 3H5c-1.1 0-2 .9-2 2v14c0 1.1.9 2 2 2h14c1.1 0 2-.9 2-2V5c0-1.1-.9-2-2-2zM9 17H7v-7h2v7zm4 0h-2V7h2v10zm4 0h-2v-4h2v4z\"/>\n",
              "    </g>\n",
              "</svg>\n",
              "  </button>\n",
              "\n",
              "<style>\n",
              "  .colab-df-quickchart {\n",
              "      --bg-color: #E8F0FE;\n",
              "      --fill-color: #1967D2;\n",
              "      --hover-bg-color: #E2EBFA;\n",
              "      --hover-fill-color: #174EA6;\n",
              "      --disabled-fill-color: #AAA;\n",
              "      --disabled-bg-color: #DDD;\n",
              "  }\n",
              "\n",
              "  [theme=dark] .colab-df-quickchart {\n",
              "      --bg-color: #3B4455;\n",
              "      --fill-color: #D2E3FC;\n",
              "      --hover-bg-color: #434B5C;\n",
              "      --hover-fill-color: #FFFFFF;\n",
              "      --disabled-bg-color: #3B4455;\n",
              "      --disabled-fill-color: #666;\n",
              "  }\n",
              "\n",
              "  .colab-df-quickchart {\n",
              "    background-color: var(--bg-color);\n",
              "    border: none;\n",
              "    border-radius: 50%;\n",
              "    cursor: pointer;\n",
              "    display: none;\n",
              "    fill: var(--fill-color);\n",
              "    height: 32px;\n",
              "    padding: 0;\n",
              "    width: 32px;\n",
              "  }\n",
              "\n",
              "  .colab-df-quickchart:hover {\n",
              "    background-color: var(--hover-bg-color);\n",
              "    box-shadow: 0 1px 2px rgba(60, 64, 67, 0.3), 0 1px 3px 1px rgba(60, 64, 67, 0.15);\n",
              "    fill: var(--button-hover-fill-color);\n",
              "  }\n",
              "\n",
              "  .colab-df-quickchart-complete:disabled,\n",
              "  .colab-df-quickchart-complete:disabled:hover {\n",
              "    background-color: var(--disabled-bg-color);\n",
              "    fill: var(--disabled-fill-color);\n",
              "    box-shadow: none;\n",
              "  }\n",
              "\n",
              "  .colab-df-spinner {\n",
              "    border: 2px solid var(--fill-color);\n",
              "    border-color: transparent;\n",
              "    border-bottom-color: var(--fill-color);\n",
              "    animation:\n",
              "      spin 1s steps(1) infinite;\n",
              "  }\n",
              "\n",
              "  @keyframes spin {\n",
              "    0% {\n",
              "      border-color: transparent;\n",
              "      border-bottom-color: var(--fill-color);\n",
              "      border-left-color: var(--fill-color);\n",
              "    }\n",
              "    20% {\n",
              "      border-color: transparent;\n",
              "      border-left-color: var(--fill-color);\n",
              "      border-top-color: var(--fill-color);\n",
              "    }\n",
              "    30% {\n",
              "      border-color: transparent;\n",
              "      border-left-color: var(--fill-color);\n",
              "      border-top-color: var(--fill-color);\n",
              "      border-right-color: var(--fill-color);\n",
              "    }\n",
              "    40% {\n",
              "      border-color: transparent;\n",
              "      border-right-color: var(--fill-color);\n",
              "      border-top-color: var(--fill-color);\n",
              "    }\n",
              "    60% {\n",
              "      border-color: transparent;\n",
              "      border-right-color: var(--fill-color);\n",
              "    }\n",
              "    80% {\n",
              "      border-color: transparent;\n",
              "      border-right-color: var(--fill-color);\n",
              "      border-bottom-color: var(--fill-color);\n",
              "    }\n",
              "    90% {\n",
              "      border-color: transparent;\n",
              "      border-bottom-color: var(--fill-color);\n",
              "    }\n",
              "  }\n",
              "</style>\n",
              "\n",
              "  <script>\n",
              "    async function quickchart(key) {\n",
              "      const quickchartButtonEl =\n",
              "        document.querySelector('#' + key + ' button');\n",
              "      quickchartButtonEl.disabled = true;  // To prevent multiple clicks.\n",
              "      quickchartButtonEl.classList.add('colab-df-spinner');\n",
              "      try {\n",
              "        const charts = await google.colab.kernel.invokeFunction(\n",
              "            'suggestCharts', [key], {});\n",
              "      } catch (error) {\n",
              "        console.error('Error during call to suggestCharts:', error);\n",
              "      }\n",
              "      quickchartButtonEl.classList.remove('colab-df-spinner');\n",
              "      quickchartButtonEl.classList.add('colab-df-quickchart-complete');\n",
              "    }\n",
              "    (() => {\n",
              "      let quickchartButtonEl =\n",
              "        document.querySelector('#df-dbf26616-785c-4cb5-9019-9111a60e42ac button');\n",
              "      quickchartButtonEl.style.display =\n",
              "        google.colab.kernel.accessAllowed ? 'block' : 'none';\n",
              "    })();\n",
              "  </script>\n",
              "</div>\n",
              "    </div>\n",
              "  </div>\n"
            ]
          },
          "metadata": {},
          "execution_count": 22
        }
      ]
    },
    {
      "cell_type": "markdown",
      "source": [
        "**Creating a function to save data to csv after every 7 day**"
      ],
      "metadata": {
        "id": "tprsjb0mcSyU"
      }
    },
    {
      "cell_type": "code",
      "source": [
        "from numpy.core.multiarray import datetime_data\n",
        "#create a function that saves data to a csv\n",
        "def save_to_csv(data):\n",
        "  file_path = 'weather_data.csv'\n",
        "  #check if the file already exists\n",
        "  if os.path.exists(file_path):\n",
        "    #Load existing data\n",
        "    existing_data = pd.read_csv(file_path)\n",
        "    #append new data\n",
        "    data = pd.concat([existing_data,data], ignore_index=True)\n",
        "  #save data to csv\n",
        "  data.to_csv(file_path, index=False)\n",
        "\n",
        "#Scheduling the script for running every 7 days\n",
        "current_date = datetime.now()\n",
        "previous_run_date = current_date -timedelta(days= 7)\n",
        "\n",
        "#compare with the last run date\n",
        "if current_date.date()>=previous_run_date.date():\n",
        "  #save data to csv\n",
        "  save_to_csv(data)\n",
        "\n"
      ],
      "metadata": {
        "id": "jHDywNmsZ4Ht"
      },
      "execution_count": null,
      "outputs": []
    }
  ]
}