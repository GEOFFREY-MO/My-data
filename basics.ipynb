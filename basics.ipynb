{
  "cells": [
    {
      "cell_type": "markdown",
      "metadata": {
        "id": "view-in-github",
        "colab_type": "text"
      },
      "source": [
        "<a href=\"https://colab.research.google.com/github/GEOFFREY-MO/My-data/blob/main/basics.ipynb\" target=\"_parent\"><img src=\"https://colab.research.google.com/assets/colab-badge.svg\" alt=\"Open In Colab\"/></a>"
      ]
    },
    {
      "cell_type": "markdown",
      "id": "d487de95",
      "metadata": {
        "id": "d487de95"
      },
      "source": [
        "The basic difference between turple and list\n",
        "\n",
        "List is a sequence of values list are enclosed by square brackets ie ([3,5])\n",
        "turple they are just like lists. they are comma separated list of values ie (2,3)"
      ]
    },
    {
      "cell_type": "code",
      "source": [
        "dict = {}\n",
        "dict['one'] = \"this is one\"\n",
        "dict[2] = \"this is two\"\n",
        "tinydict = {'name': 'john', 'code': 6734, 'dept': 'sales'}\n",
        "print(dict['one'])\n",
        "print(dict[2])\n",
        "print(tinydict)\n",
        "print(tinydict.keys())\n",
        "print(tinydict.values())\n"
      ],
      "metadata": {
        "colab": {
          "base_uri": "https://localhost:8080/"
        },
        "id": "Zu4Kqt9VvHRO",
        "outputId": "00df8fd6-71ee-49de-9626-09dc65427cf6"
      },
      "id": "Zu4Kqt9VvHRO",
      "execution_count": 2,
      "outputs": [
        {
          "output_type": "stream",
          "name": "stdout",
          "text": [
            "this is one\n",
            "this is two\n",
            "{'name': 'john', 'code': 6734, 'dept': 'sales'}\n",
            "dict_keys(['name', 'code', 'dept'])\n",
            "dict_values(['john', 6734, 'sales'])\n"
          ]
        }
      ]
    },
    {
      "cell_type": "code",
      "execution_count": null,
      "id": "8174024a",
      "metadata": {
        "id": "8174024a",
        "outputId": "0c6cbc0c-2edb-4d9e-a9db-ad36fbd0bf09"
      },
      "outputs": [
        {
          "name": "stdout",
          "output_type": "stream",
          "text": [
            "12\n",
            "18\n",
            "24\n",
            "30\n"
          ]
        }
      ],
      "source": [
        "c=12\n",
        "while c<=30:\n",
        "    print(c)\n",
        "    c=c+6"
      ]
    },
    {
      "cell_type": "code",
      "execution_count": null,
      "id": "5a281ea9",
      "metadata": {
        "id": "5a281ea9",
        "outputId": "b1986b03-eda0-40cf-fe07-88378a6d0b20"
      },
      "outputs": [
        {
          "data": {
            "text/html": [
              "<div>\n",
              "<style scoped>\n",
              "    .dataframe tbody tr th:only-of-type {\n",
              "        vertical-align: middle;\n",
              "    }\n",
              "\n",
              "    .dataframe tbody tr th {\n",
              "        vertical-align: top;\n",
              "    }\n",
              "\n",
              "    .dataframe thead th {\n",
              "        text-align: right;\n",
              "    }\n",
              "</style>\n",
              "<table border=\"1\" class=\"dataframe\">\n",
              "  <thead>\n",
              "    <tr style=\"text-align: right;\">\n",
              "      <th></th>\n",
              "      <th>name</th>\n",
              "      <th>gender</th>\n",
              "      <th>salary</th>\n",
              "      <th>designation</th>\n",
              "    </tr>\n",
              "  </thead>\n",
              "  <tbody>\n",
              "    <tr>\n",
              "      <th>0</th>\n",
              "      <td>samuel</td>\n",
              "      <td>M</td>\n",
              "      <td>21000</td>\n",
              "      <td>accountant</td>\n",
              "    </tr>\n",
              "    <tr>\n",
              "      <th>1</th>\n",
              "      <td>kevo</td>\n",
              "      <td>M</td>\n",
              "      <td>32000</td>\n",
              "      <td>administrator</td>\n",
              "    </tr>\n",
              "    <tr>\n",
              "      <th>2</th>\n",
              "      <td>racheal</td>\n",
              "      <td>F</td>\n",
              "      <td>48000</td>\n",
              "      <td>manager</td>\n",
              "    </tr>\n",
              "  </tbody>\n",
              "</table>\n",
              "</div>"
            ],
            "text/plain": [
              "      name gender  salary    designation\n",
              "0   samuel      M   21000     accountant\n",
              "1     kevo      M   32000  administrator\n",
              "2  racheal      F   48000        manager"
            ]
          },
          "execution_count": 8,
          "metadata": {},
          "output_type": "execute_result"
        }
      ],
      "source": [
        "import pandas as pd\n",
        "df1=pd.DataFrame({'name':[\"samuel\",\"kevo\",\"racheal\"],'gender':[\"M\",\"M\",\"F\"],'salary':[21000,32000,48000],'designation':[\"accountant\",\"administrator\",\"manager\"]})\n",
        "df1"
      ]
    },
    {
      "cell_type": "code",
      "execution_count": null,
      "id": "f452eaac",
      "metadata": {
        "id": "f452eaac",
        "outputId": "dd0b4afa-f104-4f86-f845-bd9a2fe0864a"
      },
      "outputs": [
        {
          "data": {
            "text/html": [
              "<div>\n",
              "<style scoped>\n",
              "    .dataframe tbody tr th:only-of-type {\n",
              "        vertical-align: middle;\n",
              "    }\n",
              "\n",
              "    .dataframe tbody tr th {\n",
              "        vertical-align: top;\n",
              "    }\n",
              "\n",
              "    .dataframe thead th {\n",
              "        text-align: right;\n",
              "    }\n",
              "</style>\n",
              "<table border=\"1\" class=\"dataframe\">\n",
              "  <thead>\n",
              "    <tr style=\"text-align: right;\">\n",
              "      <th></th>\n",
              "      <th>name</th>\n",
              "      <th>gender</th>\n",
              "      <th>salary</th>\n",
              "      <th>designation</th>\n",
              "    </tr>\n",
              "  </thead>\n",
              "  <tbody>\n",
              "    <tr>\n",
              "      <th>0</th>\n",
              "      <td>samuel</td>\n",
              "      <td>M</td>\n",
              "      <td>21000</td>\n",
              "      <td>accountant</td>\n",
              "    </tr>\n",
              "    <tr>\n",
              "      <th>1</th>\n",
              "      <td>kevo</td>\n",
              "      <td>M</td>\n",
              "      <td>32000</td>\n",
              "      <td>administrator</td>\n",
              "    </tr>\n",
              "    <tr>\n",
              "      <th>2</th>\n",
              "      <td>racheal</td>\n",
              "      <td>F</td>\n",
              "      <td>48000</td>\n",
              "      <td>manager</td>\n",
              "    </tr>\n",
              "    <tr>\n",
              "      <th>3</th>\n",
              "      <td>peter</td>\n",
              "      <td>M</td>\n",
              "      <td>29000</td>\n",
              "      <td>ict manager</td>\n",
              "    </tr>\n",
              "  </tbody>\n",
              "</table>\n",
              "</div>"
            ],
            "text/plain": [
              "      name gender  salary    designation\n",
              "0   samuel      M   21000     accountant\n",
              "1     kevo      M   32000  administrator\n",
              "2  racheal      F   48000        manager\n",
              "3    peter      M   29000    ict manager"
            ]
          },
          "execution_count": 9,
          "metadata": {},
          "output_type": "execute_result"
        }
      ],
      "source": [
        "new_row=({'name':\"peter\",'gender':\"M\",'salary':29000,'designation':\"ict manager\"})\n",
        "df1.loc[len(df1)]=new_row\n",
        "df1"
      ]
    },
    {
      "cell_type": "code",
      "execution_count": null,
      "id": "009045d6",
      "metadata": {
        "id": "009045d6",
        "outputId": "f7db7a1f-318c-412d-ce6e-8e0c50df92f9"
      },
      "outputs": [
        {
          "data": {
            "text/html": [
              "<div>\n",
              "<style scoped>\n",
              "    .dataframe tbody tr th:only-of-type {\n",
              "        vertical-align: middle;\n",
              "    }\n",
              "\n",
              "    .dataframe tbody tr th {\n",
              "        vertical-align: top;\n",
              "    }\n",
              "\n",
              "    .dataframe thead th {\n",
              "        text-align: right;\n",
              "    }\n",
              "</style>\n",
              "<table border=\"1\" class=\"dataframe\">\n",
              "  <thead>\n",
              "    <tr style=\"text-align: right;\">\n",
              "      <th></th>\n",
              "      <th>name</th>\n",
              "      <th>gender</th>\n",
              "      <th>salary</th>\n",
              "      <th>designation</th>\n",
              "    </tr>\n",
              "  </thead>\n",
              "  <tbody>\n",
              "    <tr>\n",
              "      <th>0</th>\n",
              "      <td>samuel</td>\n",
              "      <td>M</td>\n",
              "      <td>21000</td>\n",
              "      <td>accountant</td>\n",
              "    </tr>\n",
              "    <tr>\n",
              "      <th>2</th>\n",
              "      <td>racheal</td>\n",
              "      <td>F</td>\n",
              "      <td>48000</td>\n",
              "      <td>manager</td>\n",
              "    </tr>\n",
              "    <tr>\n",
              "      <th>3</th>\n",
              "      <td>peter</td>\n",
              "      <td>M</td>\n",
              "      <td>29000</td>\n",
              "      <td>ict manager</td>\n",
              "    </tr>\n",
              "  </tbody>\n",
              "</table>\n",
              "</div>"
            ],
            "text/plain": [
              "      name gender  salary  designation\n",
              "0   samuel      M   21000   accountant\n",
              "2  racheal      F   48000      manager\n",
              "3    peter      M   29000  ict manager"
            ]
          },
          "execution_count": 10,
          "metadata": {},
          "output_type": "execute_result"
        }
      ],
      "source": [
        "df1=df1.drop([1])\n",
        "df1"
      ]
    },
    {
      "cell_type": "code",
      "execution_count": null,
      "id": "a91b19e7",
      "metadata": {
        "id": "a91b19e7",
        "outputId": "1bc7e138-643e-44b1-9f16-722fb2ac5e51"
      },
      "outputs": [
        {
          "data": {
            "text/html": [
              "<div>\n",
              "<style scoped>\n",
              "    .dataframe tbody tr th:only-of-type {\n",
              "        vertical-align: middle;\n",
              "    }\n",
              "\n",
              "    .dataframe tbody tr th {\n",
              "        vertical-align: top;\n",
              "    }\n",
              "\n",
              "    .dataframe thead th {\n",
              "        text-align: right;\n",
              "    }\n",
              "</style>\n",
              "<table border=\"1\" class=\"dataframe\">\n",
              "  <thead>\n",
              "    <tr style=\"text-align: right;\">\n",
              "      <th></th>\n",
              "      <th>name</th>\n",
              "      <th>gender</th>\n",
              "      <th>salary</th>\n",
              "      <th>designation</th>\n",
              "    </tr>\n",
              "  </thead>\n",
              "  <tbody>\n",
              "    <tr>\n",
              "      <th>0</th>\n",
              "      <td>samuel</td>\n",
              "      <td>M</td>\n",
              "      <td>21000</td>\n",
              "      <td>accountant</td>\n",
              "    </tr>\n",
              "    <tr>\n",
              "      <th>2</th>\n",
              "      <td>racheal</td>\n",
              "      <td>F</td>\n",
              "      <td>48000</td>\n",
              "      <td>manager</td>\n",
              "    </tr>\n",
              "    <tr>\n",
              "      <th>3</th>\n",
              "      <td>peter</td>\n",
              "      <td>M</td>\n",
              "      <td>29000</td>\n",
              "      <td>ict manager</td>\n",
              "    </tr>\n",
              "  </tbody>\n",
              "</table>\n",
              "</div>"
            ],
            "text/plain": [
              "      name gender  salary  designation\n",
              "0   samuel      M   21000   accountant\n",
              "2  racheal      F   48000      manager\n",
              "3    peter      M   29000  ict manager"
            ]
          },
          "execution_count": 15,
          "metadata": {},
          "output_type": "execute_result"
        }
      ],
      "source": [
        "df1=df1.sort_values(by=['name'],ascending=[False])\n",
        "df1"
      ]
    },
    {
      "cell_type": "code",
      "execution_count": null,
      "id": "a550f784",
      "metadata": {
        "id": "a550f784",
        "outputId": "2d00a185-ef2a-483f-ceaf-3517dc98b82b"
      },
      "outputs": [
        {
          "name": "stdout",
          "output_type": "stream",
          "text": [
            "a: 5.0 b: 4\n"
          ]
        }
      ],
      "source": [
        "a=21/2//3.0+3**2//4\n",
        "b=4%5+4%4\n",
        "print(\"a:\",a,\"b:\",b)"
      ]
    },
    {
      "cell_type": "code",
      "execution_count": null,
      "id": "1fdafdb5",
      "metadata": {
        "id": "1fdafdb5",
        "outputId": "6cbcdc5b-e01f-4e71-d6f6-700cc8379964"
      },
      "outputs": [
        {
          "name": "stdout",
          "output_type": "stream",
          "text": [
            "12\n",
            "18\n",
            "24\n",
            "30\n"
          ]
        }
      ],
      "source": [
        "for i in range(12,31,6):\n",
        "    print(i)"
      ]
    },
    {
      "cell_type": "code",
      "execution_count": null,
      "id": "b4037696",
      "metadata": {
        "id": "b4037696",
        "outputId": "64aac706-5df8-465a-bf6c-fdf2402ad23d"
      },
      "outputs": [
        {
          "name": "stdout",
          "output_type": "stream",
          "text": [
            "g\n",
            "rogramming language\n",
            "pro\n",
            "programming languagepython\n",
            "programming languageprogramming languageprogramming language\n"
          ]
        }
      ],
      "source": [
        "s=\"programming language\"\n",
        "print(s[3])\n",
        "print(s[1:])\n",
        "print(s[:3])\n",
        "print(s+\"python\")\n",
        "print(s*3)"
      ]
    },
    {
      "cell_type": "code",
      "execution_count": null,
      "id": "f0d4e436",
      "metadata": {
        "id": "f0d4e436"
      },
      "outputs": [],
      "source": [
        "#benifits of data visualization\n",
        "1. identifying patterns\n",
        "2. analyzing complex data"
      ]
    },
    {
      "cell_type": "code",
      "execution_count": null,
      "id": "81be5795",
      "metadata": {
        "id": "81be5795",
        "outputId": "dfd0dc3a-1447-4d8a-9cab-154cd4353dbe"
      },
      "outputs": [
        {
          "data": {
            "text/plain": [
              "(array([2., 1., 1., 1., 0., 1., 1., 0., 1., 1.]),\n",
              " array([12. , 18.3, 24.6, 30.9, 37.2, 43.5, 49.8, 56.1, 62.4, 68.7, 75. ]),\n",
              " <BarContainer object of 10 artists>)"
            ]
          },
          "execution_count": 24,
          "metadata": {},
          "output_type": "execute_result"
        },
        {
          "data": {
            "image/png": "[encoded data removed]",
            "text/plain": [
              "<Figure size 432x288 with 1 Axes>"
            ]
          },
          "metadata": {
            "needs_background": "light"
          },
          "output_type": "display_data"
        }
      ],
      "source": [
        "import numpy as np\n",
        "import matplotlib.pyplot as plt\n",
        "marks=[23,17,35,29,12,45,68,54,75]\n",
        "plt.title('students marks in programming language')\n",
        "plt.ylabel('number of students')\n",
        "plt.xlabel('marks in programming language')\n",
        "plt.hist(marks,color='red')"
      ]
    },
    {
      "cell_type": "code",
      "execution_count": null,
      "id": "6e11ca62",
      "metadata": {
        "id": "6e11ca62",
        "outputId": "b4150a83-1cd0-4827-e38d-fa501de54e18"
      },
      "outputs": [
        {
          "name": "stdout",
          "output_type": "stream",
          "text": [
            "kenya          nairobi\n",
            "india         newdelhi\n",
            "usa       washingtondc\n",
            "uk              london\n",
            "france           paris\n",
            "dtype: object\n",
            "['nairobi' 'newdelhi' 'washingtondc' 'london' 'paris']\n",
            "5\n",
            "10         nairobi\n",
            "20        newdelhi\n",
            "30    washingtondc\n",
            "40          london\n",
            "50           paris\n",
            "dtype: object\n"
          ]
        }
      ],
      "source": [
        "import pandas as pd\n",
        "seriescapcntry=pd.Series(['nairobi','newdelhi','washingtondc','london','paris'],index=['kenya','india','usa','uk','france'])\n",
        "print(seriescapcntry)\n",
        "seriescapcntry[3]\n",
        "seriescapcntry[[1,2]]\n",
        "seriescapcntry[2:3]\n",
        "print(seriescapcntry.values)\n",
        "print(seriescapcntry.size)\n",
        "seriescapcntry.index=[10,20,30,40,50]\n",
        "print(seriescapcntry)"
      ]
    }
  ],
  "metadata": {
    "kernelspec": {
      "display_name": "Python 3 (ipykernel)",
      "language": "python",
      "name": "python3"
    },
    "language_info": {
      "codemirror_mode": {
        "name": "ipython",
        "version": 3
      },
      "file_extension": ".py",
      "mimetype": "text/x-python",
      "name": "python",
      "nbconvert_exporter": "python",
      "pygments_lexer": "ipython3",
      "version": "3.9.12"
    },
    "colab": {
      "provenance": [],
      "include_colab_link": true
    }
  },
  "nbformat": 4,
  "nbformat_minor": 5
}