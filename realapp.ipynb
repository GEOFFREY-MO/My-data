{
  "nbformat": 4,
  "nbformat_minor": 0,
  "metadata": {
    "colab": {
      "provenance": [],
      "authorship_tag": "ABX9TyNqwcLBjKFqYSFFRGTeNavL",
      "include_colab_link": true
    },
    "kernelspec": {
      "name": "python3",
      "display_name": "Python 3"
    },
    "language_info": {
      "name": "python"
    }
  },
  "cells": [
    {
      "cell_type": "markdown",
      "metadata": {
        "id": "view-in-github",
        "colab_type": "text"
      },
      "source": [
        "<a href=\"https://colab.research.google.com/github/GEOFFREY-MO/My-data/blob/main/realapp.ipynb\" target=\"_parent\"><img src=\"https://colab.research.google.com/assets/colab-badge.svg\" alt=\"Open In Colab\"/></a>"
      ]
    },
    {
      "cell_type": "code",
      "source": [
        "import pandas as pd\n",
        "import numpy as np\n",
        "import plotly.express as px\n",
        "import streamlit as st\n",
        "\n",
        "def data_analysis(data_path):\n",
        "    # Load the dataset\n",
        "    data = pd.read_csv(data_path)\n",
        "\n",
        "    # Check for missing values\n",
        "    missing_values = data.isnull().sum()\n",
        "    st.write(f\"Missing values:\\n{missing_values}\")\n",
        "\n",
        "    # Descriptive statistics\n",
        "    st.write(\"Descriptive statistics:\")\n",
        "    st.write(data.describe())\n",
        "\n",
        "    # Correlation analysis\n",
        "    correlation_matrix = data.corr()\n",
        "    st.write(\"Correlation matrix:\")\n",
        "    st.write(correlation_matrix)\n",
        "\n",
        "    # Find the strongest correlation\n",
        "    strongest_correlation = correlation_matrix.max()\n",
        "    correlated_variables = correlation_matrix.idxmax()\n",
        "    st.write(\"Strongest correlation:\", str(strongest_correlation), \".3f\", \"between\", correlated_variables)\n",
        "\n",
        "\n",
        "    # Make comments about the data\n",
        "    if strongest_correlation.any() > 0.7:\n",
        "\n",
        "        st.write(\"There is a strong positive correlation between the variables. This means that they tend to move in the same direction.\")\n",
        "    elif strongest_correlation < -0.7:\n",
        "        st.write(\"There is a strong negative correlation between the variables. This means that they tend to move in opposite directions.\")\n",
        "    else:\n",
        "        st.write(\"There is a weak correlation between the variables. This means that they do not tend to move in the same direction.\")\n",
        "      # Select the variables to plot\n",
        "    x_variable = st.selectbox(\"X-axis variable\", data.columns)\n",
        "    y_variable = st.selectbox(\"Y-axis variable\", data.columns)\n",
        "\n",
        "    # Create the scatter plot\n",
        "    fig = px.scatter(data, x=x_variable, y=y_variable)\n",
        "\n",
        "    # Display the plot in Streamlit\n",
        "    st.plotly_chart(fig)\n",
        "st.title(\"Data Analysis App\")\n",
        "\n",
        "# Upload the dataset\n",
        "uploaded_file = st.file_uploader(\"Choose a dataset file\")\n",
        "\n",
        "# If a dataset is uploaded, perform the data analysis\n",
        "if uploaded_file is not None:\n",
        "    data_analysis(uploaded_file.name)\n",
        "else:\n",
        "    st.write(\"Please upload a dataset file to perform the data analysis.\")"
      ],
      "metadata": {
        "id": "Gy8-Q3wQKnB5"
      },
      "execution_count": null,
      "outputs": []
    }
  ]
}